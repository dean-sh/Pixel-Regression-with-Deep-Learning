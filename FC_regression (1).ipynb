{
  "nbformat": 4,
  "nbformat_minor": 0,
  "metadata": {
    "colab": {
      "name": "FC regression.ipynb",
      "version": "0.3.2",
      "provenance": [],
      "collapsed_sections": [
        "W6-Qd_AruIkb"
      ]
    },
    "kernelspec": {
      "name": "python3",
      "display_name": "Python 3"
    },
    "accelerator": "GPU"
  },
  "cells": [
    {
      "metadata": {
        "id": "z1FdLUeLuUPR",
        "colab_type": "text"
      },
      "cell_type": "markdown",
      "source": [
        "### **File Handling**"
      ]
    },
    {
      "metadata": {
        "id": "UywyllJi9byU",
        "colab_type": "code",
        "colab": {}
      },
      "cell_type": "code",
      "source": [
        "!apt-get install -y -qq software-properties-common python-software-properties module-init-tools\n",
        "!wget https://launchpad.net/~alessandro-strada/+archive/ubuntu/google-drive-ocamlfuse-beta/+build/15331130/+files/google-drive-ocamlfuse_0.7.0-0ubuntu1_amd64.deb\n",
        "!dpkg -i google-drive-ocamlfuse_0.7.0-0ubuntu1_amd64.deb\n",
        "!apt-get install -f\n",
        "!apt-get -y install -qq fuse\n",
        "from google.colab import auth\n",
        "auth.authenticate_user()\n",
        "from oauth2client.client import GoogleCredentials\n",
        "creds = GoogleCredentials.get_application_default()\n",
        "import getpass\n",
        "!google-drive-ocamlfuse -headless -id={creds.client_id} -secret={creds.client_secret} < /dev/null 2>&1 | grep URL\n",
        "vcode = getpass.getpass()\n",
        "!echo {vcode} | google-drive-ocamlfuse -headless -id={creds.client_id} -secret={creds.client_secret}"
      ],
      "execution_count": 0,
      "outputs": []
    },
    {
      "metadata": {
        "id": "n5pY_ZQ4qKeY",
        "colab_type": "code",
        "colab": {}
      },
      "cell_type": "code",
      "source": [
        "!kill -9 -1\n"
      ],
      "execution_count": 0,
      "outputs": []
    },
    {
      "metadata": {
        "id": "13Shib6O8mqm",
        "colab_type": "code",
        "colab": {}
      },
      "cell_type": "code",
      "source": [
        "!mkdir -p drive\n",
        "!google-drive-ocamlfuse drive"
      ],
      "execution_count": 0,
      "outputs": []
    },
    {
      "metadata": {
        "id": "VV9OIA6Q8qND",
        "colab_type": "code",
        "colab": {
          "base_uri": "https://localhost:8080/",
          "height": 251
        },
        "outputId": "8a2be39c-1042-4091-8809-ab65ec8208fc"
      },
      "cell_type": "code",
      "source": [
        "!ls drive/elisra_dl_course_project"
      ],
      "execution_count": 59,
      "outputs": [
        {
          "output_type": "stream",
          "text": [
            "CNN(32-64)-FC(2048-2048-1) -700-Augmentation_20.8.h5  my_model2.h5\n",
            "cnn-fcc-regression.h5\t\t\t\t      my_model3.h5\n",
            "data_manipulation.py\t\t\t\t      my_model.h5\n",
            "FC-regression-augmentation_19.8.h5\t\t      python.py\n",
            "FC-regression-augmentation_20.8.h5\t\t      test data\n",
            "FC-regression-augmentation_FC#2_1.h5\t\t      test.py\n",
            "FC-regression-augmentation_FC#2_2.h5\t\t      train\n",
            "FC-regression-augmentation_FC#3_1.h5\t\t      train data\n",
            "FC-regression-augmentation_FC#3_2.h5\t\t      x_test_aug11.npy\n",
            "FC-regression-augmentation_FC#4_1.h5\t\t      x_train_aug11.npy\n",
            "FC-regression-augmentation_FC#5_1.h5\t\t      x_val_aug11.npy\n",
            "FC-regression-augmentation_FC#5_2.h5\t\t      y_test_aug11.npy\n",
            "FC-regression-augmentation_FC#6_1.h5\t\t      y_train_aug11.npy\n",
            "FC-regression-augmentation_FC#7_1.h5\t\t      y_val_aug11.npy\n"
          ],
          "name": "stdout"
        }
      ]
    },
    {
      "metadata": {
        "id": "RKiR0jl1PJ0y",
        "colab_type": "code",
        "colab": {}
      },
      "cell_type": "code",
      "source": [
        "!pip install scikit-image"
      ],
      "execution_count": 0,
      "outputs": []
    },
    {
      "metadata": {
        "id": "8PgY_FxN9Tup",
        "colab_type": "code",
        "colab": {}
      },
      "cell_type": "code",
      "source": [
        "!pip install --upgrade tensorflow-gpu==1.4"
      ],
      "execution_count": 0,
      "outputs": []
    },
    {
      "metadata": {
        "id": "_sIcmBzGuPxv",
        "colab_type": "text"
      },
      "cell_type": "markdown",
      "source": [
        "### **Training**"
      ]
    },
    {
      "metadata": {
        "id": "xdBm6yYo2A_-",
        "colab_type": "code",
        "colab": {
          "base_uri": "https://localhost:8080/",
          "height": 1321
        },
        "outputId": "c5a9ecc2-5a9f-4c19-94b6-8b06e1ba9ce0"
      },
      "cell_type": "code",
      "source": [
        "import matplotlib.pyplot as plt\n",
        "import random\n",
        "import numpy as np\n",
        "# from PIL import Image\n",
        "from keras.models import Sequential\n",
        "from keras.layers import Dense, Dropout, Flatten, Reshape\n",
        "from keras.layers import Conv2D, MaxPooling2D\n",
        "from keras.layers.normalization import BatchNormalization\n",
        "from keras import backend as K\n",
        "import keras\n",
        "import tensorflow as tf\n",
        "\n",
        "\n",
        "\n",
        "def unpickle(pickled):\n",
        "    # This function unpickles tha files into dictionaries / arrays.\n",
        "\n",
        "    import pickle\n",
        "    with open(pickled, 'rb') as fo:\n",
        "        file = pickle.load(fo)\n",
        "        fo.close()\n",
        "    return file\n",
        "\n",
        "\n",
        "def plot_image(an_image):\n",
        "    plt.figure()\n",
        "    plt.imshow(an_image)\n",
        "    plt.colorbar()\n",
        "    plt.show(block=True)\n",
        "\n",
        "\n",
        "# TODO completing the images in the train set to find min-max values\n",
        "def image_completion(image_set):\n",
        "    array = np.array(image_set['x_data'])\n",
        "    cnt = 0\n",
        "    for i in range(0, array.shape[0]):\n",
        "        array[i][15][15] = image_set['y_data'][i]\n",
        "        cnt+=1\n",
        "    return array\n",
        "\n",
        "\n",
        "  \n",
        "# def root_mean_squared_error(y_true, y_pred):\n",
        "#     return np.abs(K.sqrt(K.mean(K.square(y_pred - y_true), axis=-1)))\n",
        "\n",
        "\n",
        "  \n",
        "def data_augmentation(full_image_array, augment_size):\n",
        "    '''TODO this function takes the original full_image_array, and separates it into different image parts.\n",
        "    TODO original full_image_array size is (10000, 31, 31, 1).\n",
        "    TODO the output of the function is a  new, longer x_train, y_train, made by smaller images from the train set. '''\n",
        "\n",
        "    from sklearn.feature_extraction import image\n",
        "    patches = image.extract_patches_2d(full_image_array[0], (augment_size, augment_size))\n",
        "    cnt = 0\n",
        "    for index in range(600):\n",
        "        patch = image.extract_patches_2d(full_image_array[index], (augment_size, augment_size))\n",
        "        patches = np.concatenate((patches, patch), axis=0)\n",
        "    #TODO creating new x_train, y_train\n",
        "    x_new_train = patches\n",
        "    center = int((augmentation_size-1)/2)\n",
        "    y_train = np.array((x_new_train[0][center][center]))\n",
        "    x_new_train[0][center][center] = 0\n",
        "\n",
        "    for index in range(1, x_new_train.shape[0]):\n",
        "        y_train = np.append(y_train, x_new_train[index][center][center])\n",
        "        x_new_train[index][center][center] = 0\n",
        "\n",
        "    y_train = np.expand_dims(y_train, 1)\n",
        "    x_train = x_new_train.reshape(x_new_train.shape[0], augmentation_size, augmentation_size, 1)\n",
        "    # final_x = np.empty_like(x_train)\n",
        "    # final_y = np.empty_like(y_train)\n",
        "    # \n",
        "    # rand_images = np.random.choice(range(x_train.shape[0]), 10, replace=False)\n",
        "    # \n",
        "    # for i in range(len(rand_images)):\n",
        "    #     final_x[i] = x_train[int(rand_images[i])]\n",
        "    #     final_y[i] = y_train[int(rand_images[i])]\n",
        "    #TODO remember: crop the test images!!\n",
        "    return x_train, y_train\n",
        "\n",
        "\n",
        "def smoothL1(y_true, y_pred):\n",
        "    HUBER_DELTA = 0.5\n",
        "    x = K.abs(y_true - y_pred)\n",
        "    if K._BACKEND == 'tensorflow':\n",
        "        import tensorflow as tf\n",
        "        x = tf.where(x < HUBER_DELTA, 0.5 * x ** 2, HUBER_DELTA * (x - 0.5 * HUBER_DELTA))\n",
        "        return K.sum(x)\n",
        "\n",
        "      \n",
        "def data_normalization(x, min, max):\n",
        "    \"\"\"\n",
        "    Normalize a list of sample image data in the range of 0 to 1\n",
        "    : x: List of image data.  The image shape is (31, 31, 3)\n",
        "    : return: Numpy array of normalized data\n",
        "    \"\"\"\n",
        "    #[-1, 1] normalization (did work, but the return back did not)\n",
        "    #return np.array(2*((x - min) / (max - min)) -1)\n",
        "    \n",
        "    #[0,1] normalization:\n",
        "    return np.array((x - min) / (max - min))\n",
        "\n",
        "  \n",
        "def data_set():\n",
        "  # Training set includes a dict with x-data and the y-data\n",
        "  train_set1 = unpickle('drive/elisra_dl_course_project/train data/train_data_1000_31X31_ver1.pickle')\n",
        "  train_set2 = unpickle('drive/elisra_dl_course_project/train data/train_data_1000_31X31_ver2.pickle')\n",
        "  train_set3 = unpickle('drive/elisra_dl_course_project/train data/train_data_1000_31X31_ver3.pickle')\n",
        "  train_set4 = unpickle('drive/elisra_dl_course_project/train data/train_data_1000_31X31_ver4.pickle')\n",
        "  train_set5 = unpickle('drive/elisra_dl_course_project/train data/train_data_1000_31X31_ver5.pickle')\n",
        "  train_set6 = unpickle('drive/elisra_dl_course_project/train data/train_data_1000_31X31_ver6.pickle')\n",
        "  train_set7 = unpickle('drive/elisra_dl_course_project/train data/train_data_1000_31X31_ver7.pickle')\n",
        "  train_set8 = unpickle('drive/elisra_dl_course_project/train data/train_data_1000_31X31_ver8.pickle')\n",
        "  train_set9 = unpickle('drive/elisra_dl_course_project/train data/train_data_1000_31X31_ver9.pickle')\n",
        "  train_set10 = unpickle('drive/elisra_dl_course_project/train data/train_data_1000_31X31_ver10.pickle')\n",
        "\n",
        "  train_set = {'x_data': [], 'y_data':[]}\n",
        "  train_set['x_data'].extend(train_set1['x_data'])\n",
        "  train_set['y_data'].extend(train_set1['y_data'])\n",
        "  train_set['x_data'].extend(train_set2['x_data'])\n",
        "  train_set['y_data'].extend(train_set2['y_data'])\n",
        "  train_set['x_data'].extend(train_set3['x_data'])\n",
        "  train_set['y_data'].extend(train_set3['y_data'])\n",
        "  train_set['x_data'].extend(train_set4['x_data'])\n",
        "  train_set['y_data'].extend(train_set4['y_data'])\n",
        "  train_set['x_data'].extend(train_set5['x_data'])\n",
        "  train_set['y_data'].extend(train_set5['y_data'])\n",
        "  train_set['x_data'].extend(train_set6['x_data'])\n",
        "  train_set['y_data'].extend(train_set6['y_data'])\n",
        "  train_set['x_data'].extend(train_set7['x_data'])\n",
        "  train_set['y_data'].extend(train_set7['y_data'])\n",
        "  train_set['x_data'].extend(train_set8['x_data'])\n",
        "  train_set['y_data'].extend(train_set8['y_data'])\n",
        "  train_set['x_data'].extend(train_set9['x_data'])\n",
        "  train_set['y_data'].extend(train_set9['y_data'])\n",
        "  train_set['x_data'].extend(train_set10['x_data'])\n",
        "  train_set['y_data'].extend(train_set10['y_data'])\n",
        "\n",
        "  train_set['x_data'] = np.array(train_set['x_data'])\n",
        "  train_set['y_data'] = np.array(train_set['y_data'])\n",
        "\n",
        "  del(train_set1, train_set2, train_set3, train_set4, train_set5, train_set6, train_set7, train_set8, train_set9, train_set10)\n",
        "  return train_set\n",
        "\n",
        "\n",
        "train_set = data_set()\n",
        "\n",
        "full_image_array = image_completion(train_set)\n",
        "full_image_array = full_image_array.astype(int)\n",
        "\n",
        "\n",
        "minval = np.min(np.min(np.where(full_image_array==0, full_image_array.max(), full_image_array), axis=1))\n",
        "\n",
        "maxval = np.max(np.max(np.where(full_image_array==0, full_image_array.min(), full_image_array), axis=1))\n",
        "\n",
        "print(full_image_array.shape)\n",
        "\n",
        "norm_x = data_normalization(full_image_array, minval, maxval)\n",
        "\n",
        "# print(max,min)\n",
        "# img_x, img_y = 31, 31\n",
        "augmentation_size = 11\n",
        "\n",
        "batch_size = 64\n",
        "epochs = 100\n",
        "\n",
        "def input_handling_and_saving():\n",
        "  (x_train, y_train) = data_augmentation(norm_x, augmentation_size)\n",
        "\n",
        "  # plot_image(np.squeeze(full_image_array[1]))\n",
        "\n",
        "  # plot_image(np.reshape(norm_x[1], (31,31)))\n",
        "\n",
        "\n",
        "  # input image dimensions\n",
        "  img_x, img_y = augmentation_size, augmentation_size\n",
        "  input_size = img_x*img_y\n",
        "  # (x_train, y_train) = (train_set['x_data'], train_set['y_data'])\n",
        "  # print('\\nxtrain shape, ytrain shape:\\n', x_train.shape, y_train.shape)\n",
        "\n",
        "\n",
        "  #TODO do data augmentation for the train images before train-test split\n",
        "\n",
        "  # TODO TRAIN >>>> TEST SPLIT:\n",
        "  from sklearn.model_selection import train_test_split\n",
        "  # define the target variable (dependent variable) as y\n",
        "\n",
        "  X_sptrain, X_sptest, y_sptrain, y_sptest = train_test_split(x_train, y_train, test_size=0.2, random_state=42)\n",
        "  # print (X_sptrain.shape, y_sptrain.shape)\n",
        "  # print (X_sptest.shape, y_sptest.shape)\n",
        "  # print(X_sptrain[0])\n",
        "  # print(y_train[1][0])\n",
        "\n",
        "  #TODO TEST SET:\n",
        "  y_test = y_sptest\n",
        "  x_test = X_sptest\n",
        "\n",
        "  # TODO TRAIN -VAL SPLIT\n",
        "  X_sptrain2, X_sptest2, y_sptrain2, y_sptest2 = train_test_split(X_sptrain, y_sptrain, test_size=0.2, random_state=42)\n",
        "  # print (X_sptrain.shape, y_sptrain.shape)\n",
        "  # print (X_sptest.shape, y_sptest.shape)\n",
        "  # print(X_sptrain[0])\n",
        "  # print(y_train[1][0])\n",
        "\n",
        "  # convert the data to the right type\n",
        "  x_train = X_sptrain2\n",
        "  y_train = y_sptrain2\n",
        "\n",
        "  x_val = X_sptest2\n",
        "  y_val = y_sptest2\n",
        "\n",
        "  #TODO no need for image normalization here - we need absoloute values\n",
        "  # x_train = x_train.astype('float32')\n",
        "  # x_test = x_test.astype('float32')\n",
        "  # x_train /= 255\n",
        "  # x_test /= 255\n",
        "  x_train = np.squeeze(np.reshape(x_train, (x_train.shape[0], img_y*img_x)))\n",
        "  x_test = np.squeeze(np.reshape(x_test, (x_test.shape[0], img_y*img_x)))\n",
        "  x_val = np.squeeze(np.reshape(x_val, (x_val.shape[0], img_y*img_x)))\n",
        "  \n",
        "  np.save('drive/elisra_dl_course_project/x_train_aug11', x_train)\n",
        "  np.save('drive/elisra_dl_course_project/y_train_aug11', y_train)\n",
        "  \n",
        "  np.save('drive/elisra_dl_course_project/x_val_aug11', x_val)\n",
        "  np.save('drive/elisra_dl_course_project/y_val_aug11', y_val)\n",
        "\n",
        "  np.save('drive/elisra_dl_course_project/x_test_aug11', x_test)\n",
        "  np.save('drive/elisra_dl_course_project/y_test_aug11', y_test)\n",
        "\n",
        "  \n",
        "\n",
        "def input_loading():\n",
        "  x_train = np.load('drive/elisra_dl_course_project/x_train_aug11.npy')\n",
        "  y_train = np.load('drive/elisra_dl_course_project/y_train_aug11.npy')\n",
        "  \n",
        "  x_val = np.load('drive/elisra_dl_course_project/x_val_aug11.npy')\n",
        "  y_val = np.load('drive/elisra_dl_course_project/y_val_aug11.npy')\n",
        "\n",
        "  x_test = np.load('drive/elisra_dl_course_project/x_test_aug11.npy')\n",
        "  y_test = np.load('drive/elisra_dl_course_project/y_test_aug11.npy')\n",
        "\n",
        "# input_handling_and_saving()\n",
        "  \n",
        "input_loading()\n",
        "\n",
        "print('train shape:', x_train.shape, y_train.shape)\n",
        "print(x_train.shape[0], 'train samples')\n",
        "print('val shape', x_val.shape, y_val.shape)\n",
        "print(x_val.shape[0], 'val samples')\n",
        "print('test shape', x_test.shape, y_test.shape)\n",
        "print(x_test.shape[0], 'test samples')\n",
        "\n",
        "\n",
        "# plot_image(np.reshape(x_train[random.randrange(1,500)], (augmentation_size,augmentation_size)))\n",
        "# plot_image(np.reshape(x_test[random.randrange(1,500)], (augmentation_size,augmentation_size)))\n",
        "# plot_image(np.reshape(x_val[random.randrange(1,500)], (augmentation_size,augmentation_size)))\n",
        "\n",
        "\n",
        "\n",
        "model = Sequential()\n",
        "model.add(Dense(512, activation='relu', input_dim=input_size, kernel_initializer='normal'))\n",
        "model.add(Dropout(0.05))\n",
        "model.add(Dense(512, activation='relu', input_dim=input_size, kernel_initializer='normal'))\n",
        "model.add(Dropout(0.05))\n",
        "model.add(Dense(512, activation='relu', input_dim=input_size, kernel_initializer='normal'))\n",
        "model.add(Dropout(0.05))\n",
        "model.add(Dense(1, kernel_initializer='normal'))\n",
        "\n",
        "# print(model.summary())\n",
        "\n",
        "mc = keras.callbacks.ModelCheckpoint('weights{epoch:08d}.h5', save_weights_only=True, period=50)\n",
        "\n",
        "from keras.callbacks import TensorBoard\n",
        "# tbCallBack = TensorBoard(log_dir='./log', histogram_freq=1,\n",
        "#                          write_graph=True,\n",
        "#                          write_grads=True,\n",
        "#                          batch_size=batch_size,\n",
        "#                          write_images=True)\n",
        "\n",
        "\n",
        "model.compile(optimizer='adam', loss='mean_squared_error')\n",
        "\n",
        "history = model.fit(x_train, y_train, batch_size=batch_size, epochs=epochs, verbose=1,\n",
        "                    validation_data=(x_val, y_val),\n",
        "                    shuffle=True,\n",
        "                    callbacks=[mc])\n",
        "\n",
        "score = model.evaluate(x_test, y_test, verbose=1)\n",
        "\n",
        "#TODO plot the val_loss to epochs.\n",
        "\n",
        "print('Test loss:', score)\n",
        "\n",
        "# Loss Curves\n",
        "plt.figure(figsize=[8, 6])\n",
        "plt.plot(history.history['loss'], 'r', linewidth=3.0)\n",
        "plt.plot(history.history['val_loss'], 'b', linewidth=3.0)\n",
        "plt.legend(['Training loss', 'Validation Loss'], fontsize=18)\n",
        "plt.xlabel('Epochs ', fontsize=16)\n",
        "plt.ylabel('Loss', fontsize=16)\n",
        "plt.title('Loss Curves', fontsize=16)\n",
        "plt.show(block=True)\n",
        "\n",
        "from keras.models import load_model\n",
        "\n",
        "model.save('drive/elisra_dl_course_project/FC-regression-augmentation_FC#7_3.h5')  # creates a HDF5 file 'my_model.h5'\n",
        "\n"
      ],
      "execution_count": 0,
      "outputs": [
        {
          "output_type": "stream",
          "text": [
            "(10000, 31, 31, 1)\n",
            "train shape: (169625, 121) (169625, 1)\n",
            "169625 train samples\n",
            "val shape (42407, 121) (42407, 1)\n",
            "42407 val samples\n",
            "test shape (53009, 121) (53009, 1)\n",
            "53009 test samples\n",
            "Train on 169625 samples, validate on 42407 samples\n",
            "Epoch 1/100\n",
            "169625/169625 [==============================] - 22s 131us/step - loss: 1.2815e-04 - val_loss: 5.4339e-05\n",
            "Epoch 2/100\n",
            "169625/169625 [==============================] - 20s 118us/step - loss: 6.6320e-05 - val_loss: 4.7444e-05\n",
            "Epoch 3/100\n",
            "169625/169625 [==============================] - 20s 119us/step - loss: 5.9309e-05 - val_loss: 7.9460e-05\n",
            "Epoch 4/100\n",
            "169625/169625 [==============================] - 20s 120us/step - loss: 5.5447e-05 - val_loss: 7.0622e-05\n",
            "Epoch 5/100\n",
            "169625/169625 [==============================] - 20s 119us/step - loss: 5.2670e-05 - val_loss: 5.3256e-05\n",
            "Epoch 6/100\n",
            "169625/169625 [==============================] - 20s 120us/step - loss: 5.1388e-05 - val_loss: 1.1520e-04\n",
            "Epoch 7/100\n",
            "169625/169625 [==============================] - 20s 120us/step - loss: 4.9563e-05 - val_loss: 4.5324e-05\n",
            "Epoch 8/100\n",
            "169625/169625 [==============================] - 20s 120us/step - loss: 4.8740e-05 - val_loss: 7.5987e-05\n",
            "Epoch 9/100\n",
            "169625/169625 [==============================] - 20s 120us/step - loss: 4.7645e-05 - val_loss: 5.9121e-05\n",
            "Epoch 10/100\n",
            "169625/169625 [==============================] - 20s 119us/step - loss: 4.6873e-05 - val_loss: 5.4745e-05\n",
            "Epoch 11/100\n",
            "169625/169625 [==============================] - 20s 119us/step - loss: 4.6562e-05 - val_loss: 7.9574e-05\n",
            "Epoch 12/100\n",
            "169625/169625 [==============================] - 20s 120us/step - loss: 4.5765e-05 - val_loss: 5.6313e-05\n",
            "Epoch 13/100\n",
            "169625/169625 [==============================] - 20s 120us/step - loss: 4.5376e-05 - val_loss: 5.4958e-05\n",
            "Epoch 14/100\n",
            "169625/169625 [==============================] - 22s 130us/step - loss: 4.4820e-05 - val_loss: 4.0004e-05\n",
            "Epoch 15/100\n",
            "169625/169625 [==============================] - 21s 122us/step - loss: 4.4250e-05 - val_loss: 6.0775e-05\n",
            "Epoch 16/100\n",
            "169625/169625 [==============================] - 21s 122us/step - loss: 4.3751e-05 - val_loss: 5.3153e-05\n",
            "Epoch 17/100\n",
            "169625/169625 [==============================] - 21s 121us/step - loss: 4.3888e-05 - val_loss: 5.0337e-05\n",
            "Epoch 18/100\n",
            "169625/169625 [==============================] - 20s 120us/step - loss: 4.3123e-05 - val_loss: 3.5879e-05\n",
            "Epoch 19/100\n",
            "169625/169625 [==============================] - 20s 120us/step - loss: 4.4130e-05 - val_loss: 7.2520e-05\n",
            "Epoch 20/100\n",
            "169625/169625 [==============================] - 20s 120us/step - loss: 4.3197e-05 - val_loss: 4.2975e-05\n",
            "Epoch 21/100\n",
            "169625/169625 [==============================] - 20s 119us/step - loss: 4.2962e-05 - val_loss: 5.6563e-05\n",
            "Epoch 22/100\n",
            "169625/169625 [==============================] - 20s 120us/step - loss: 4.2850e-05 - val_loss: 4.5964e-05\n",
            "Epoch 23/100\n",
            "169625/169625 [==============================] - 20s 119us/step - loss: 4.2628e-05 - val_loss: 5.3038e-05\n",
            "Epoch 24/100\n",
            "169625/169625 [==============================] - 20s 119us/step - loss: 4.2489e-05 - val_loss: 6.1625e-05\n",
            "Epoch 25/100\n",
            "169625/169625 [==============================] - 20s 119us/step - loss: 4.2645e-05 - val_loss: 5.1387e-05\n",
            "Epoch 26/100\n",
            "169625/169625 [==============================] - 20s 119us/step - loss: 4.2438e-05 - val_loss: 4.9638e-05\n",
            "Epoch 27/100\n",
            "169625/169625 [==============================] - 20s 119us/step - loss: 4.1798e-05 - val_loss: 4.4284e-05\n",
            "Epoch 28/100\n",
            "169625/169625 [==============================] - 21s 122us/step - loss: 4.1969e-05 - val_loss: 6.4188e-05\n",
            "Epoch 29/100\n",
            "169625/169625 [==============================] - 20s 119us/step - loss: 4.1880e-05 - val_loss: 6.5341e-05\n",
            "Epoch 30/100\n",
            "169625/169625 [==============================] - 20s 120us/step - loss: 4.1601e-05 - val_loss: 4.0227e-05\n",
            "Epoch 31/100\n",
            "169625/169625 [==============================] - 21s 123us/step - loss: 4.1553e-05 - val_loss: 7.4258e-05\n",
            "Epoch 32/100\n",
            "169625/169625 [==============================] - 20s 119us/step - loss: 4.1371e-05 - val_loss: 1.0748e-04\n",
            "Epoch 33/100\n",
            "169625/169625 [==============================] - 20s 119us/step - loss: 4.1884e-05 - val_loss: 7.0459e-05\n",
            "Epoch 34/100\n",
            "169625/169625 [==============================] - 20s 119us/step - loss: 4.1479e-05 - val_loss: 5.2905e-05\n",
            "Epoch 35/100\n",
            " 89792/169625 [==============>...............] - ETA: 8s - loss: 4.1601e-05"
          ],
          "name": "stdout"
        }
      ]
    },
    {
      "metadata": {
        "id": "yTpY5DSwHyWB",
        "colab_type": "text"
      },
      "cell_type": "markdown",
      "source": [
        "### **Testing the model**"
      ]
    },
    {
      "metadata": {
        "id": "SDpG6SL9a4ch",
        "colab_type": "code",
        "colab": {
          "base_uri": "https://localhost:8080/",
          "height": 33
        },
        "outputId": "1da4cbf0-95bd-45d9-d13a-ee11869ceb71"
      },
      "cell_type": "code",
      "source": [
        "%matplotlib inline \n",
        "# # # Test set only includes an array of 31X31 images, with center pixel gone. (not a dict)\n",
        "# test_set1 = unpic c\n",
        "# del(test_set1,test_set2)\n",
        "\n",
        "model2 = Sequential()\n",
        "model2.add(Dense(512, activation='relu', input_dim=input_size, kernel_initializer='normal'))\n",
        "model2.add(Dropout(0.05))\n",
        "model2.add(Dense(512, activation='relu', input_dim=input_size, kernel_initializer='normal'))\n",
        "model2.add(Dropout(0.05))\n",
        "model2.add(Dense(512, activation='relu', input_dim=input_size, kernel_initializer='normal'))\n",
        "model2.add(Dropout(0.05))\n",
        "model2.add(Dense(1, kernel_initializer='normal'))\n",
        "\n",
        "\n",
        "model2.load_weights('drive/elisra_dl_course_project/FC-regression-augmentation_FC#7_3.h5')\n",
        "model2.compile(optimizer='adam', loss='mean_squared_error')\n",
        "\n",
        "# print(model2.summary())\n",
        "\n",
        "def crop_center(img,crop):\n",
        "    y,x,c = img.shape\n",
        "    startx = x//2 - crop//2\n",
        "    starty = y//2 - crop//2    \n",
        "    return img[:, starty:starty+crop, startx:startx+crop]\n",
        "\n",
        "\n",
        "def image_completion(image_set):\n",
        "    array = np.array(image_set['x_data'])\n",
        "    cnt = 0\n",
        "    for i in range(0, array.shape[0]):\n",
        "        array[i][15][15] = image_set['y_data'][i]\n",
        "        cnt+=1\n",
        "    return array\n",
        "\n",
        "import math\n",
        "\n",
        "#MSE over test set:\n",
        "len = 20000\n",
        "\n",
        "ms = []\n",
        "acc = 0\n",
        "abs_acc = 0\n",
        "norm_acc = 0\n",
        "cnt = 0\n",
        "for i in range(1,len):\n",
        "  a = random.randrange(1,50000)\n",
        "  expanded_im = np.expand_dims(x_test[a], axis=0)\n",
        "  reshaped_img = np.reshape(expanded_im, (1, 121))\n",
        "  prediction = model2.predict(reshaped_img)[0][0]\n",
        "  \n",
        "  \n",
        "  #conversion to non-normalized images\n",
        "  \n",
        "  original_y_val = int((maxval-minval)*y_test[a][0] + minval)\n",
        "  original_pred_val = int((maxval-minval)*prediction + minval)\n",
        "  \n",
        "  diff = original_pred_val - original_y_val\n",
        "  ms.append(diff)\n",
        "  acc += abs(original_pred_val-original_y_val)\n",
        "  abs_acc = acc*acc\n",
        "  cnt+=1\n",
        "  norm_acc += abs(prediction - y_test[a][0]) \n",
        "  #print('real value:',y_test[a][0], 'predicted:',pred, 'DIFF:', abs((y_test[a] - pred)[0]))\n",
        "#   print('Non-normalized real value:',original_y_val, '/  predicted:',original_pred_val, '/  DIFF:', abs(original_pred_val-original_y_val))\n",
        "  \n",
        "# print(\"\\nRegular L1 is\", round(acc/cnt))\n",
        "\n",
        "# print(\"\\nRegular L2 is\", round(math.sqrt((abs_acc/cnt))))\n",
        "\n",
        "import statistics as s\n",
        "mse = s.mean([i ** 2 for i in ms])\n",
        "print('MSE:',mse)\n"
      ],
      "execution_count": 78,
      "outputs": [
        {
          "output_type": "stream",
          "text": [
            "MSE: 283.33886694334717\n"
          ],
          "name": "stdout"
        }
      ]
    },
    {
      "metadata": {
        "id": "w0R46CPut-t7",
        "colab_type": "text"
      },
      "cell_type": "markdown",
      "source": [
        "### Comparing two models:"
      ]
    },
    {
      "metadata": {
        "id": "AQUN95o-dEI4",
        "colab_type": "code",
        "colab": {
          "base_uri": "https://localhost:8080/",
          "height": 50
        },
        "outputId": "fbb265e6-ab7f-4c23-a887-5097bd2d9ecb"
      },
      "cell_type": "code",
      "source": [
        "#model 3 - B - the best performing model yet (FC4)\n",
        "#model 2 - A - Newly trained model (from test segment)\n",
        "model3 = Sequential()\n",
        "model3.add(Dense(512, activation='relu', input_dim=input_size, kernel_initializer='normal'))\n",
        "model3.add(Dropout(0.05))\n",
        "model3.add(Dense(512, activation='relu', input_dim=input_size, kernel_initializer='normal'))\n",
        "model3.add(Dropout(0.05))\n",
        "model3.add(Dense(1, kernel_initializer='normal'))\n",
        "\n",
        "model3.load_weights('drive/elisra_dl_course_project/FC-regression-augmentation_FC#4_1.h5')\n",
        "model3.compile(optimizer='adam', loss='mean_squared_error')\n",
        "\n",
        "import math\n",
        "\n",
        "#comparing two models\n",
        "\n",
        "len = 100\n",
        "msA = []\n",
        "msB = []\n",
        "acc = 0\n",
        "abs_acc = 0\n",
        "norm_acc = 0\n",
        "cnt = 0\n",
        "for i in range(1,len):\n",
        "  a = random.randrange(1,50000)\n",
        "  expanded_im = np.expand_dims(x_test[a], axis=0)\n",
        "  reshaped_img = np.reshape(expanded_im, (1, 121))\n",
        "  predictionA = model2.predict(reshaped_img)[0][0]\n",
        "  predictionB = model3.predict(reshaped_img)[0][0]\n",
        "\n",
        "  #conversion to non-normalized images\n",
        "  original_y_val = int((maxval-minval)*y_test[a][0] + minval)\n",
        "  original_pred_val_A = ((maxval-minval)*predictionA + minval)\n",
        "  original_pred_val_B = ((maxval-minval)*predictionB + minval)\n",
        "\n",
        "  diffA = original_pred_val_A - original_y_val\n",
        "  diffB = original_pred_val_B - original_y_val\n",
        "\n",
        "  msA.append(diffA)\n",
        "  msB.append(diffB)\n",
        "  \n",
        "#   acc += abs(original_pred_val-original_y_val)\n",
        "#   abs_acc = acc*acc\n",
        "#   cnt+=1\n",
        "#   norm_acc += abs(prediction - y_test[a][0]) \n",
        "#   print('real value:',y_test[a][0], 'predicted:',pred, 'DIFF:', abs((y_test[a] - pred)[0]))\n",
        "#   print('Real:',original_y_val, '/  A_diff:',int(abs(original_y_val-original_pred_val_A)) , 'B_diff:', int(abs(original_pred_val_B-original_y_val)))\n",
        "  \n",
        "import statistics as s\n",
        "mseA = s.mean([i ** 2 for i in msA])\n",
        "print('MSE A:',mseA)\n",
        "mseB = s.mean([i ** 2 for i in msB])\n",
        "print('MSE B:',mseB)\n"
      ],
      "execution_count": 79,
      "outputs": [
        {
          "output_type": "stream",
          "text": [
            "MSE A: 268.62073888169164\n",
            "MSE B: 159.7629940213971\n"
          ],
          "name": "stdout"
        }
      ]
    },
    {
      "metadata": {
        "id": "W6-Qd_AruIkb",
        "colab_type": "text"
      },
      "cell_type": "markdown",
      "source": [
        "### **random stuff**"
      ]
    },
    {
      "metadata": {
        "id": "k08vYWTlFk5M",
        "colab_type": "code",
        "colab": {
          "base_uri": "https://localhost:8080/",
          "height": 1022
        },
        "outputId": "b3b4b63f-24db-4b85-ec3d-3c132a98c63c"
      },
      "cell_type": "code",
      "source": [
        "# plot_image(np.reshape(x_train[9291], (augmentation_size,augmentation_size)))\n",
        "plot_image(np.squeeze(full_image_array[9291]))\n",
        "plot_image(np.reshape(norm_x[9291], (31,31)))\n",
        "\n",
        "\n",
        "plot_image(np.reshape(x_test[6], (augmentation_size,augmentation_size)))\n",
        "plot_image(np.reshape(x_val[random.randrange(1,500)], (augmentation_size,augmentation_size)))"
      ],
      "execution_count": 67,
      "outputs": [
        {
          "output_type": "display_data",
          "data": {
            "image/png": "[encoded data removed]",
            "text/plain": [
              "<matplotlib.figure.Figure at 0x7fe59a017748>"
            ]
          },
          "metadata": {
            "tags": []
          }
        },
        {
          "output_type": "display_data",
          "data": {
            "image/png": "[encoded data removed]",
            "text/plain": [
              "<matplotlib.figure.Figure at 0x7fe59a0174e0>"
            ]
          },
          "metadata": {
            "tags": []
          }
        },
        {
          "output_type": "display_data",
          "data": {
            "image/png": "[encoded data removed]",
            "text/plain": [
              "<matplotlib.figure.Figure at 0x7fe594665208>"
            ]
          },
          "metadata": {
            "tags": []
          }
        },
        {
          "output_type": "display_data",
          "data": {
            "image/png": "[encoded data removed]",
            "text/plain": [
              "<matplotlib.figure.Figure at 0x7fe59464f4e0>"
            ]
          },
          "metadata": {
            "tags": []
          }
        }
      ]
    },
    {
      "metadata": {
        "id": "lqSfk4xaghOb",
        "colab_type": "code",
        "colab": {
          "base_uri": "https://localhost:8080/",
          "height": 33
        },
        "outputId": "e9c709ce-5c16-4e99-987e-45d153186ed8"
      },
      "cell_type": "code",
      "source": [
        "imageminval = np.min(np.min(np.where(full_image_array==0, full_image_array.max(), full_image_array), axis=1))\n",
        "\n",
        "maxval = np.max(np.max(np.where(full_image_array==0, full_image_array.min(), full_image_array), axis=1))\n",
        "\n",
        "zeroval = np.argwhere(full_image_array==0)\n",
        "\n",
        "max_arg = np.argwhere(full_image_array==2736)\n",
        "\n",
        "print(minval, maxval, max_arg)\n",
        "\n",
        "# print(full_image_array[495][20]) "
      ],
      "execution_count": 26,
      "outputs": [
        {
          "output_type": "stream",
          "text": [
            "487 2736 [[9291    6   30    0]]\n"
          ],
          "name": "stdout"
        }
      ]
    }
  ]
}