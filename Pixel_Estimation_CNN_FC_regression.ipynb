{
  "nbformat": 4,
  "nbformat_minor": 0,
  "metadata": {
    "colab": {
      "name": "Pixel Estimation - CNN-FC regression.ipynb",
      "version": "0.3.2",
      "provenance": [],
      "collapsed_sections": [],
      "include_colab_link": true
    },
    "kernelspec": {
      "name": "python3",
      "display_name": "Python 3"
    },
    "accelerator": "GPU"
  },
  "cells": [
    {
      "cell_type": "markdown",
      "metadata": {
        "id": "view-in-github",
        "colab_type": "text"
      },
      "source": [
        "[View in Colaboratory](https://colab.research.google.com/github/dean-sh/Pixel-Regression-with-Deep-Learning/blob/master/Pixel_Estimation_CNN_FC_regression.ipynb)"
      ]
    },
    {
      "metadata": {
        "id": "z1FdLUeLuUPR",
        "colab_type": "text"
      },
      "cell_type": "markdown",
      "source": [
        "###**File Handling**"
      ]
    },
    {
      "metadata": {
        "id": "n5pY_ZQ4qKeY",
        "colab_type": "code",
        "colab": {}
      },
      "cell_type": "code",
      "source": [
        "!kill -9 -1\n"
      ],
      "execution_count": 0,
      "outputs": []
    },
    {
      "metadata": {
        "id": "UywyllJi9byU",
        "colab_type": "code",
        "colab": {
          "base_uri": "https://localhost:8080/",
          "height": 2708
        },
        "outputId": "3d51618c-74d1-471e-8831-591b212a1ea2"
      },
      "cell_type": "code",
      "source": [
        "!apt-get install -y -qq software-properties-common python-software-properties module-init-tools\n",
        "!wget https://launchpad.net/~alessandro-strada/+archive/ubuntu/google-drive-ocamlfuse-beta/+build/15331130/+files/google-drive-ocamlfuse_0.7.0-0ubuntu1_amd64.deb\n",
        "!dpkg -i google-drive-ocamlfuse_0.7.0-0ubuntu1_amd64.deb\n",
        "!apt-get install -f\n",
        "!apt-get -y install -qq fuse\n",
        "from google.colab import auth\n",
        "auth.authenticate_user()\n",
        "from oauth2client.client import GoogleCredentials\n",
        "creds = GoogleCredentials.get_application_default()\n",
        "import getpass\n",
        "!google-drive-ocamlfuse -headless -id={creds.client_id} -secret={creds.client_secret} < /dev/null 2>&1 | grep URL\n",
        "vcode = getpass.getpass()\n",
        "!echo {vcode} | google-drive-ocamlfuse -headless -id={creds.client_id} -secret={creds.client_secret}"
      ],
      "execution_count": 2,
      "outputs": [
        {
          "output_type": "stream",
          "text": [
            "Preconfiguring packages ...\n",
            "Selecting previously unselected package cron.\n",
            "(Reading database ... 18408 files and directories currently installed.)\n",
            "Preparing to unpack .../00-cron_3.0pl1-128ubuntu5_amd64.deb ...\n",
            "Unpacking cron (3.0pl1-128ubuntu5) ...\n",
            "Selecting previously unselected package libapparmor1:amd64.\n",
            "Preparing to unpack .../01-libapparmor1_2.11.0-2ubuntu17.1_amd64.deb ...\n",
            "Unpacking libapparmor1:amd64 (2.11.0-2ubuntu17.1) ...\n",
            "Selecting previously unselected package libdbus-1-3:amd64.\n",
            "Preparing to unpack .../02-libdbus-1-3_1.10.22-1ubuntu1_amd64.deb ...\n",
            "Unpacking libdbus-1-3:amd64 (1.10.22-1ubuntu1) ...\n",
            "Selecting previously unselected package dbus.\n",
            "Preparing to unpack .../03-dbus_1.10.22-1ubuntu1_amd64.deb ...\n",
            "Unpacking dbus (1.10.22-1ubuntu1) ...\n",
            "Selecting previously unselected package dirmngr.\n",
            "Preparing to unpack .../04-dirmngr_2.1.15-1ubuntu8.1_amd64.deb ...\n",
            "Unpacking dirmngr (2.1.15-1ubuntu8.1) ...\n",
            "Selecting previously unselected package distro-info-data.\n",
            "Preparing to unpack .../05-distro-info-data_0.36ubuntu0.2_all.deb ...\n",
            "Unpacking distro-info-data (0.36ubuntu0.2) ...\n",
            "Selecting previously unselected package libkmod2:amd64.\n",
            "Preparing to unpack .../06-libkmod2_24-1ubuntu2_amd64.deb ...\n",
            "Unpacking libkmod2:amd64 (24-1ubuntu2) ...\n",
            "Selecting previously unselected package kmod.\n",
            "Preparing to unpack .../07-kmod_24-1ubuntu2_amd64.deb ...\n",
            "Unpacking kmod (24-1ubuntu2) ...\n",
            "Selecting previously unselected package lsb-release.\n",
            "Preparing to unpack .../08-lsb-release_9.20160110ubuntu5_all.deb ...\n",
            "Unpacking lsb-release (9.20160110ubuntu5) ...\n",
            "Selecting previously unselected package libgirepository-1.0-1:amd64.\n",
            "Preparing to unpack .../09-libgirepository-1.0-1_1.54.1-1_amd64.deb ...\n",
            "Unpacking libgirepository-1.0-1:amd64 (1.54.1-1) ...\n",
            "Selecting previously unselected package gir1.2-glib-2.0:amd64.\n",
            "Preparing to unpack .../10-gir1.2-glib-2.0_1.54.1-1_amd64.deb ...\n",
            "Unpacking gir1.2-glib-2.0:amd64 (1.54.1-1) ...\n",
            "Selecting previously unselected package iso-codes.\n",
            "Preparing to unpack .../11-iso-codes_3.75-1_all.deb ...\n",
            "Unpacking iso-codes (3.75-1) ...\n",
            "Selecting previously unselected package libdbus-glib-1-2:amd64.\n",
            "Preparing to unpack .../12-libdbus-glib-1-2_0.108-2_amd64.deb ...\n",
            "Unpacking libdbus-glib-1-2:amd64 (0.108-2) ...\n",
            "Selecting previously unselected package python-apt-common.\n",
            "Preparing to unpack .../13-python-apt-common_1.4.0~beta3build2_all.deb ...\n",
            "Unpacking python-apt-common (1.4.0~beta3build2) ...\n",
            "Selecting previously unselected package python3-apt.\n",
            "Preparing to unpack .../14-python3-apt_1.4.0~beta3build2_amd64.deb ...\n",
            "Unpacking python3-apt (1.4.0~beta3build2) ...\n",
            "Selecting previously unselected package python3-dbus.\n",
            "Preparing to unpack .../15-python3-dbus_1.2.4-1build3_amd64.deb ...\n",
            "Unpacking python3-dbus (1.2.4-1build3) ...\n",
            "Selecting previously unselected package python3-gi.\n",
            "Preparing to unpack .../16-python3-gi_3.24.1-2build1_amd64.deb ...\n",
            "Unpacking python3-gi (3.24.1-2build1) ...\n",
            "Selecting previously unselected package module-init-tools.\n",
            "Preparing to unpack .../17-module-init-tools_24-1ubuntu2_all.deb ...\n",
            "Unpacking module-init-tools (24-1ubuntu2) ...\n",
            "Selecting previously unselected package python-apt.\n",
            "Preparing to unpack .../18-python-apt_1.4.0~beta3build2_amd64.deb ...\n",
            "Unpacking python-apt (1.4.0~beta3build2) ...\n",
            "Selecting previously unselected package python-pycurl.\n",
            "Preparing to unpack .../19-python-pycurl_7.43.0-2build2_amd64.deb ...\n",
            "Unpacking python-pycurl (7.43.0-2build2) ...\n",
            "Selecting previously unselected package python-software-properties.\n",
            "Preparing to unpack .../20-python-software-properties_0.96.24.17_all.deb ...\n",
            "Unpacking python-software-properties (0.96.24.17) ...\n",
            "Selecting previously unselected package python3-software-properties.\n",
            "Preparing to unpack .../21-python3-software-properties_0.96.24.17_all.deb ...\n",
            "Unpacking python3-software-properties (0.96.24.17) ...\n",
            "Selecting previously unselected package software-properties-common.\n",
            "Preparing to unpack .../22-software-properties-common_0.96.24.17_all.deb ...\n",
            "Unpacking software-properties-common (0.96.24.17) ...\n",
            "Selecting previously unselected package unattended-upgrades.\n",
            "Preparing to unpack .../23-unattended-upgrades_0.98ubuntu1.1_all.deb ...\n",
            "Unpacking unattended-upgrades (0.98ubuntu1.1) ...\n",
            "Setting up python-apt-common (1.4.0~beta3build2) ...\n",
            "Setting up python3-apt (1.4.0~beta3build2) ...\n",
            "Setting up iso-codes (3.75-1) ...\n",
            "Setting up distro-info-data (0.36ubuntu0.2) ...\n",
            "Setting up python-pycurl (7.43.0-2build2) ...\n",
            "Setting up lsb-release (9.20160110ubuntu5) ...\n",
            "Setting up libgirepository-1.0-1:amd64 (1.54.1-1) ...\n",
            "Setting up libkmod2:amd64 (24-1ubuntu2) ...\n",
            "Setting up gir1.2-glib-2.0:amd64 (1.54.1-1) ...\n",
            "Processing triggers for libc-bin (2.26-0ubuntu2.1) ...\n",
            "Setting up libapparmor1:amd64 (2.11.0-2ubuntu17.1) ...\n",
            "Setting up unattended-upgrades (0.98ubuntu1.1) ...\n",
            "\n",
            "Creating config file /etc/apt/apt.conf.d/20auto-upgrades with new version\n",
            "\n",
            "Creating config file /etc/apt/apt.conf.d/50unattended-upgrades with new version\n",
            "invoke-rc.d: could not determine current runlevel\n",
            "invoke-rc.d: policy-rc.d denied execution of start.\n",
            "Setting up dirmngr (2.1.15-1ubuntu8.1) ...\n",
            "Setting up cron (3.0pl1-128ubuntu5) ...\n",
            "Adding group `crontab' (GID 102) ...\n",
            "Done.\n",
            "update-rc.d: warning: start and stop actions are no longer supported; falling back to defaults\n",
            "update-rc.d: warning: stop runlevel arguments (1) do not match cron Default-Stop values (none)\n",
            "invoke-rc.d: could not determine current runlevel\n",
            "invoke-rc.d: policy-rc.d denied execution of start.\n",
            "Setting up libdbus-1-3:amd64 (1.10.22-1ubuntu1) ...\n",
            "Setting up kmod (24-1ubuntu2) ...\n",
            "Setting up libdbus-glib-1-2:amd64 (0.108-2) ...\n",
            "Setting up python3-gi (3.24.1-2build1) ...\n",
            "Setting up module-init-tools (24-1ubuntu2) ...\n",
            "Setting up python3-software-properties (0.96.24.17) ...\n",
            "Setting up dbus (1.10.22-1ubuntu1) ...\n",
            "Setting up python-apt (1.4.0~beta3build2) ...\n",
            "Setting up python3-dbus (1.2.4-1build3) ...\n",
            "Setting up python-software-properties (0.96.24.17) ...\n",
            "Setting up software-properties-common (0.96.24.17) ...\n",
            "Processing triggers for libc-bin (2.26-0ubuntu2.1) ...\n",
            "Processing triggers for dbus (1.10.22-1ubuntu1) ...\n",
            "\n",
            "Redirecting output to ‘wget-log’.\n",
            "Selecting previously unselected package google-drive-ocamlfuse.\n",
            "(Reading database ... 19816 files and directories currently installed.)\n",
            "Preparing to unpack google-drive-ocamlfuse_0.7.0-0ubuntu1_amd64.deb ...\n",
            "Unpacking google-drive-ocamlfuse (0.7.0-0ubuntu1) ...\n",
            "\u001b[1mdpkg:\u001b[0m dependency problems prevent configuration of google-drive-ocamlfuse:\n",
            " google-drive-ocamlfuse depends on libfuse2 (>= 2.8); however:\n",
            "  Package libfuse2 is not installed.\n",
            "\n",
            "\u001b[1mdpkg:\u001b[0m error processing package google-drive-ocamlfuse (--install):\n",
            " dependency problems - leaving unconfigured\n",
            "Errors were encountered while processing:\n",
            " google-drive-ocamlfuse\n",
            "Reading package lists... Done\n",
            "Building dependency tree       \n",
            "Reading state information... Done\n",
            "Correcting dependencies... Done\n",
            "The following additional packages will be installed:\n",
            "  libfuse2\n",
            "Suggested packages:\n",
            "  fuse\n",
            "The following NEW packages will be installed:\n",
            "  libfuse2\n",
            "0 upgraded, 1 newly installed, 0 to remove and 0 not upgraded.\n",
            "1 not fully installed or removed.\n",
            "Need to get 80.9 kB of archives.\n",
            "After this operation, 313 kB of additional disk space will be used.\n",
            "Get:1 http://archive.ubuntu.com/ubuntu artful/main amd64 libfuse2 amd64 2.9.7-1ubuntu1 [80.9 kB]\n",
            "Fetched 80.9 kB in 1s (54.7 kB/s)\n",
            "Selecting previously unselected package libfuse2:amd64.\n",
            "(Reading database ... 19821 files and directories currently installed.)\n",
            "Preparing to unpack .../libfuse2_2.9.7-1ubuntu1_amd64.deb ...\n",
            "Unpacking libfuse2:amd64 (2.9.7-1ubuntu1) ...\n",
            "Setting up libfuse2:amd64 (2.9.7-1ubuntu1) ...\n",
            "Processing triggers for libc-bin (2.26-0ubuntu2.1) ...\n",
            "Setting up google-drive-ocamlfuse (0.7.0-0ubuntu1) ...\n",
            "Selecting previously unselected package fuse.\n",
            "(Reading database ... 19833 files and directories currently installed.)\n",
            "Preparing to unpack .../fuse_2.9.7-1ubuntu1_amd64.deb ...\n",
            "Unpacking fuse (2.9.7-1ubuntu1) ...\n",
            "Setting up fuse (2.9.7-1ubuntu1) ...\n",
            "Please, open the following URL in a web browser: https://accounts.google.com/o/oauth2/auth?client_id=32555940559.apps.googleusercontent.com&redirect_uri=urn%3Aietf%3Awg%3Aoauth%3A2.0%3Aoob&scope=https%3A%2F%2Fwww.googleapis.com%2Fauth%2Fdrive&response_type=code&access_type=offline&approval_prompt=force\n",
            "··········\n",
            "Please, open the following URL in a web browser: https://accounts.google.com/o/oauth2/auth?client_id=32555940559.apps.googleusercontent.com&redirect_uri=urn%3Aietf%3Awg%3Aoauth%3A2.0%3Aoob&scope=https%3A%2F%2Fwww.googleapis.com%2Fauth%2Fdrive&response_type=code&access_type=offline&approval_prompt=force\n",
            "Please enter the verification code: Access token retrieved correctly.\n"
          ],
          "name": "stdout"
        }
      ]
    },
    {
      "metadata": {
        "id": "13Shib6O8mqm",
        "colab_type": "code",
        "colab": {}
      },
      "cell_type": "code",
      "source": [
        "!mkdir -p drive\n",
        "!google-drive-ocamlfuse drive"
      ],
      "execution_count": 0,
      "outputs": []
    },
    {
      "metadata": {
        "id": "VV9OIA6Q8qND",
        "colab_type": "code",
        "colab": {
          "base_uri": "https://localhost:8080/",
          "height": 33
        },
        "outputId": "348b485f-f008-4c38-a81a-ed98dd503f40"
      },
      "cell_type": "code",
      "source": [
        "!ls drive/elisra_dl_course_project"
      ],
      "execution_count": 2,
      "outputs": [
        {
          "output_type": "stream",
          "text": [
            "ls: cannot access 'drive/elisra_dl_course_project': No such file or directory\n"
          ],
          "name": "stdout"
        }
      ]
    },
    {
      "metadata": {
        "id": "4lOGfOrubnBP",
        "colab_type": "text"
      },
      "cell_type": "markdown",
      "source": [
        "** Enable Tensorboar**\n",
        "\n",
        "---\n",
        "\n"
      ]
    },
    {
      "metadata": {
        "id": "8PgY_FxN9Tup",
        "colab_type": "code",
        "colab": {}
      },
      "cell_type": "code",
      "source": [
        "!pip install --upgrade tensorflow-gpu==1.4"
      ],
      "execution_count": 0,
      "outputs": []
    },
    {
      "metadata": {
        "id": "BIU-vkiptdVk",
        "colab_type": "code",
        "colab": {
          "base_uri": "https://localhost:8080/",
          "height": 84
        },
        "outputId": "deb29c77-ab1f-4a2e-d1b7-09facb72c7c1"
      },
      "cell_type": "code",
      "source": [
        "!wget https://bin.equinox.io/c/4VmDzA7iaHb/ngrok-stable-linux-amd64.zip\n",
        "!unzip ngrok-stable-linux-amd64.zip"
      ],
      "execution_count": 40,
      "outputs": [
        {
          "output_type": "stream",
          "text": [
            "\n",
            "Redirecting output to ‘wget-log.2’.\n",
            "Archive:  ngrok-stable-linux-amd64.zip\n",
            "  inflating: ngrok                   \n"
          ],
          "name": "stdout"
        }
      ]
    },
    {
      "metadata": {
        "id": "Rp5Jq3F3t0Wn",
        "colab_type": "code",
        "colab": {}
      },
      "cell_type": "code",
      "source": [
        "LOG_DIR = './log'\n",
        "get_ipython().system_raw(\n",
        "    'tensorboard --logdir {} --host 0.0.0.0 --port 6006 &'\n",
        "    .format(LOG_DIR))\n"
      ],
      "execution_count": 0,
      "outputs": []
    },
    {
      "metadata": {
        "id": "8VpuavkRt5M_",
        "colab_type": "code",
        "colab": {}
      },
      "cell_type": "code",
      "source": [
        "get_ipython().system_raw('./ngrok http 6006 &')"
      ],
      "execution_count": 0,
      "outputs": []
    },
    {
      "metadata": {
        "id": "myaZYKU8t7QH",
        "colab_type": "code",
        "colab": {
          "base_uri": "https://localhost:8080/",
          "height": 33
        },
        "outputId": "ed949b3b-49c5-441a-d3b8-8d2999fde3ab"
      },
      "cell_type": "code",
      "source": [
        "! curl -s http://localhost:4040/api/tunnels | python3 -c \\\n",
        "    \"import sys, json; print(json.load(sys.stdin)['tunnels'][0]['public_url'])\""
      ],
      "execution_count": 43,
      "outputs": [
        {
          "output_type": "stream",
          "text": [
            "http://3f8a64cb.ngrok.io\n"
          ],
          "name": "stdout"
        }
      ]
    },
    {
      "metadata": {
        "id": "_sIcmBzGuPxv",
        "colab_type": "text"
      },
      "cell_type": "markdown",
      "source": [
        "### **Training**"
      ]
    },
    {
      "metadata": {
        "id": "xdBm6yYo2A_-",
        "colab_type": "code",
        "colab": {
          "base_uri": "https://localhost:8080/",
          "height": 34
        },
        "outputId": "08aa977a-7be4-43a8-bc56-5374ca5492a5"
      },
      "cell_type": "code",
      "source": [
        "import matplotlib.pyplot as plt\n",
        "import random\n",
        "import numpy as np\n",
        "# from PIL import Image\n",
        "from keras.models import Sequential\n",
        "from keras.layers import Dense, Dropout, Flatten, Reshape\n",
        "from keras.layers import Conv2D, MaxPooling2D\n",
        "from keras.layers.normalization import BatchNormalization\n",
        "from keras import backend as K\n",
        "import keras\n",
        "from keras.callbacks import TensorBoard\n",
        "import tensorflow as tf\n",
        "from keras.callbacks import ModelCheckpoint\n",
        "\n",
        "def unpickle(pickled):\n",
        "    # This function unpickles tha files into dictionaries / arrays.\n",
        "\n",
        "    import pickle\n",
        "    with open(pickled, 'rb') as fo:\n",
        "        file = pickle.load(fo)\n",
        "        fo.close()\n",
        "    return file\n",
        "\n",
        "\n",
        "def plot_image(an_image):\n",
        "    plt.figure()\n",
        "    plt.imshow(an_image)\n",
        "    plt.colorbar()\n",
        "    plt.show(block=True)\n",
        "\n",
        "\n",
        "# TODO completing the images in the train set to find min-max values\n",
        "def image_completion(image_set):\n",
        "    array = np.array(image_set['x_data'])\n",
        "    cnt = 0\n",
        "    for i in range(0, array.shape[0]):\n",
        "        array[i][15][15] = image_set['y_data'][i]\n",
        "        cnt+=1\n",
        "    return array\n",
        "\n",
        "  \n",
        "# def root_mean_squared_error(y_true, y_pred):\n",
        "#     return np.abs(K.sqrt(K.mean(K.square(y_pred - y_true), axis=-1)))\n",
        "\n",
        "  \n",
        "def data_augmentation(full_image_array, augment_size):\n",
        "    '''this function takes the original full_image_array, and separates it into different image parts.\n",
        "    original full_image_array size is (10000, 31, 31, 1).\n",
        "    the output of the function is a  new, longer x_train, y_train, made by smaller images from the train set. '''\n",
        "\n",
        "    from sklearn.feature_extraction import image\n",
        "    patches = image.extract_patches_2d(full_image_array[0], (augment_size, augment_size))\n",
        "    cnt = 0\n",
        "    for index in range(patches.shape[0]):\n",
        "        patch = image.extract_patches_2d(full_image_array[index], (augment_size, augment_size))\n",
        "        patches = np.concatenate((patches, patch), axis=0)\n",
        "    #creating new x_train, y_train\n",
        "    x_new_train = patches\n",
        "    center = int((augmentation_size-1)/2)\n",
        "    y_train = np.array((x_new_train[0][center][center]))\n",
        "    x_new_train[0][center][center] = 0\n",
        "\n",
        "    for index in range(1, x_new_train.shape[0]):\n",
        "        y_train = np.append(y_train, x_new_train[index][center][center])\n",
        "        x_new_train[index][center][center] = 0\n",
        "\n",
        "    y_train = np.expand_dims(y_train, 1)\n",
        "    x_train = x_new_train.reshape(x_new_train.shape[0], augmentation_size, augmentation_size, 1)\n",
        "    return x_train, y_train\n",
        "\n",
        "\n",
        "def smoothL1(y_true, y_pred):\n",
        "    HUBER_DELTA = 0.5\n",
        "    x = K.abs(y_true - y_pred)\n",
        "    if K._BACKEND == 'tensorflow':\n",
        "        import tensorflow as tf\n",
        "        x = tf.where(x < HUBER_DELTA, 0.5 * x ** 2, HUBER_DELTA * (x - 0.5 * HUBER_DELTA))\n",
        "        return K.sum(x)\n",
        "\n",
        "      \n",
        "def data_normalization(x, min, max):\n",
        "    \"\"\"\n",
        "    Normalize a list of sample image data in the range of 0 to 1\n",
        "    : x: List of image data.  The image shape is (31, 31, 3)\n",
        "    : return: Numpy array of normalized data\n",
        "    \"\"\"\n",
        "    #[-1, 1] normalization (did work, but the return back did not)\n",
        "    #return np.array(2*((x - min) / (max - min)) -1)\n",
        "    \n",
        "    #[0,1] normalization:\n",
        "    return np.array((x - min) / (max - min))\n",
        "\n",
        "  \n",
        "val_set1 = unpickle('drive/elisra_dl_course_project/train data/train_data_1000_31X31_ver9.pickle')\n",
        "val_set2 = unpickle('drive/elisra_dl_course_project/train data/train_data_1000_31X31_ver10.pickle')\n",
        "val_set = {'x_data': [], 'y_data':[]}\n",
        "\n",
        "val_set['x_data'].extend(val_set1['x_data'])\n",
        "val_set['y_data'].extend(val_set1['y_data'])\n",
        "val_set['x_data'].extend(val_set2['x_data'])\n",
        "val_set['y_data'].extend(val_set2['y_data'])\n",
        "\n",
        "val_set['x_data'] = np.array(val_set['x_data'])\n",
        "val_set['y_data'] = np.array(val_set['y_data'])\n",
        "\n",
        "def data_set():\n",
        "  # Training set includes a dict with x-data and the y-data\n",
        "  train_set1 = unpickle('drive/elisra_dl_course_project/train data/train_data_1000_31X31_ver1.pickle')\n",
        "  train_set2 = unpickle('drive/elisra_dl_course_project/train data/train_data_1000_31X31_ver2.pickle')\n",
        "  train_set3 = unpickle('drive/elisra_dl_course_project/train data/train_data_1000_31X31_ver3.pickle')\n",
        "  train_set4 = unpickle('drive/elisra_dl_course_project/train data/train_data_1000_31X31_ver4.pickle')\n",
        "  train_set5 = unpickle('drive/elisra_dl_course_project/train data/train_data_1000_31X31_ver5.pickle')\n",
        "  train_set6 = unpickle('drive/elisra_dl_course_project/train data/train_data_1000_31X31_ver6.pickle')\n",
        "  train_set7 = unpickle('drive/elisra_dl_course_project/train data/train_data_1000_31X31_ver7.pickle')\n",
        "  train_set8 = unpickle('drive/elisra_dl_course_project/train data/train_data_1000_31X31_ver8.pickle')\n",
        "  #train_set9 = unpickle('drive/elisra_dl_course_project/train data/train_data_1000_31X31_ver9.pickle')\n",
        "  #train_set10 = unpickle('drive/elisra_dl_course_project/train data/train_data_1000_31X31_ver10.pickle')\n",
        "\n",
        "  train_set = {'x_data': [], 'y_data':[]}\n",
        "  train_set['x_data'].extend(train_set1['x_data'])\n",
        "  train_set['y_data'].extend(train_set1['y_data'])\n",
        "  train_set['x_data'].extend(train_set2['x_data'])\n",
        "  train_set['y_data'].extend(train_set2['y_data'])\n",
        "  train_set['x_data'].extend(train_set3['x_data'])\n",
        "  train_set['y_data'].extend(train_set3['y_data'])\n",
        "  train_set['x_data'].extend(train_set4['x_data'])\n",
        "  train_set['y_data'].extend(train_set4['y_data'])\n",
        "  train_set['x_data'].extend(train_set5['x_data'])\n",
        "  train_set['y_data'].extend(train_set5['y_data'])\n",
        "  train_set['x_data'].extend(train_set6['x_data'])\n",
        "  train_set['y_data'].extend(train_set6['y_data'])\n",
        "  train_set['x_data'].extend(train_set7['x_data'])\n",
        "  train_set['y_data'].extend(train_set7['y_data'])\n",
        "  train_set['x_data'].extend(train_set8['x_data'])\n",
        "  train_set['y_data'].extend(train_set8['y_data'])\n",
        "#   train_set['x_data'].extend(train_set9['x_data'])\n",
        "#   train_set['y_data'].extend(train_set9['y_data'])\n",
        "#   train_set['x_data'].extend(train_set10['x_data'])\n",
        "#   train_set['y_data'].extend(train_set10['y_data'])\n",
        "\n",
        "  train_set['x_data'] = np.array(train_set['x_data'])\n",
        "  train_set['y_data'] = np.array(train_set['y_data'])\n",
        "\n",
        "  del(train_set1, train_set2, train_set3, train_set4, train_set5, train_set6, train_set7, train_set8)#, train_set9, train_set10)\n",
        "  return train_set\n",
        "\n",
        "\n",
        "train_set = data_set()\n",
        "\n",
        "full_image_array = image_completion(train_set)\n",
        "full_image_array = full_image_array.astype(int)\n",
        "\n",
        "full_val_array = image_completion(val_set)\n",
        "full_val_array = full_image_array.astype(int)\n",
        "\n",
        "val_min = np.min(np.min(np.where(full_val_array==0, full_val_array.max(), full_val_array), axis=1))\n",
        "val_max = np.max(np.max(np.where(full_val_array==0, full_val_array.min(), full_val_array), axis=1))\n",
        "\n",
        "minval = np.min(np.min(np.where(full_image_array==0, full_image_array.max(), full_image_array), axis=1))\n",
        "\n",
        "maxval = np.max(np.max(np.where(full_image_array==0, full_image_array.min(), full_image_array), axis=1))\n",
        "\n",
        "print(full_image_array.shape)\n",
        "\n",
        "norm_x = data_normalization(full_image_array, minval, maxval)\n",
        "\n",
        "val_norm_x = data_normalization(full_val_array, val_min, val_max)\n",
        "\n",
        "\n",
        "# print(max,min)\n",
        "# img_x, img_y = 31, 31\n",
        "augmentation_size = 7\n",
        "input_size = (augmentation_size, augmentation_size, 1)\n",
        "img_x, img_y = augmentation_size, augmentation_size\n",
        "\n",
        "batch_size = 64\n",
        "epochs =100\n",
        "\n",
        "(new_x_val, new_y_val) = data_augmentation(val_norm_x, augmentation_size)\n",
        "new_x_val = np.squeeze(np.reshape(new_val_x, (new_val_x.shape[0], img_y*img_x)))\n",
        "\n",
        "def input_handling_and_saving():\n",
        "  (x_train, y_train) = data_augmentation(norm_x, augmentation_size)\n",
        "\n",
        "  # plot_image(np.squeeze(full_image_array[1]))\n",
        "\n",
        "  # plot_image(np.reshape(norm_x[1], (31,31)))\n",
        "\n",
        "\n",
        "  # input image dimensions\n",
        "  input_size = img_x*img_y\n",
        "  # (x_train, y_train) = (train_set['x_data'], train_set['y_data'])\n",
        "  # print('\\nxtrain shape, ytrain shape:\\n', x_train.shape, y_train.shape)\n",
        "\n",
        "\n",
        "  #TODO do data augmentation for the train images before train-test split\n",
        "\n",
        "  # TODO TRAIN >>>> TEST SPLIT:\n",
        "  from sklearn.model_selection import train_test_split\n",
        "  # define the target variable (dependent variable) as y\n",
        "\n",
        "  X_sptrain, X_sptest, y_sptrain, y_sptest = train_test_split(x_train, y_train, test_size=0.2, random_state=42)\n",
        "  # print (X_sptrain.shape, y_sptrain.shape)\n",
        "  # print (X_sptest.shape, y_sptest.shape)\n",
        "  # print(X_sptrain[0])\n",
        "  # print(y_train[1][0])\n",
        "\n",
        "  #TODO TEST SET:\n",
        "  y_test = y_sptest\n",
        "  x_test = X_sptest\n",
        "\n",
        "  # TODO TRAIN -VAL SPLIT\n",
        "  X_sptrain2, X_sptest2, y_sptrain2, y_sptest2 = train_test_split(X_sptrain, y_sptrain, test_size=0.2, random_state=42)\n",
        "  # print (X_sptrain.shape, y_sptrain.shape)\n",
        "  # print (X_sptest.shape, y_sptest.shape)\n",
        "  # print(X_sptrain[0])\n",
        "  # print(y_train[1][0])\n",
        "\n",
        "  # convert the data to the right type\n",
        "  x_train = X_sptrain2\n",
        "  y_train = y_sptrain2\n",
        "\n",
        "  x_val = X_sptest2\n",
        "  y_val = y_sptest2\n",
        "\n",
        "  # x_train = x_train.astype('float32')\n",
        "  # x_test = x_test.astype('float32')\n",
        "  # x_train /= 255\n",
        "  # x_test /= 255\n",
        "  x_train = np.squeeze(np.reshape(x_train, (x_train.shape[0], img_y*img_x)))\n",
        "  x_test = np.squeeze(np.reshape(x_test, (x_test.shape[0], img_y*img_x)))\n",
        "  x_val = np.squeeze(np.reshape(x_val, (x_val.shape[0], img_y*img_x)))\n",
        "  \n",
        "  np.save('drive/elisra_dl_course_project/x_train_aug11', x_train)\n",
        "  np.save('drive/elisra_dl_course_project/y_train_aug11', y_train)\n",
        "  \n",
        "  np.save('drive/elisra_dl_course_project/x_val_aug11', x_val)\n",
        "  np.save('drive/elisra_dl_course_project/y_val_aug11', y_val)\n",
        "\n",
        "  np.save('drive/elisra_dl_course_project/x_test_aug11', x_test)\n",
        "  np.save('drive/elisra_dl_course_project/y_test_aug11', y_test)\n",
        "  return x_train, y_train, x_val, y_val, x_test, y_test \n",
        "\n",
        "  \n",
        "\n",
        "def input_loading():\n",
        "  x_train = np.load('drive/elisra_dl_course_project/x_train_aug11.npy')\n",
        "  y_train = np.load('drive/elisra_dl_course_project/y_train_aug11.npy')\n",
        "  \n",
        "  x_val = np.load('drive/elisra_dl_course_project/x_val_aug11.npy')\n",
        "  y_val = np.load('drive/elisra_dl_course_project/y_val_aug11.npy')\n",
        "\n",
        "  x_test = np.load('drive/elisra_dl_course_project/x_test_aug11.npy')\n",
        "  y_test = np.load('drive/elisra_dl_course_project/y_test_aug11.npy')\n",
        "  \n",
        "  return x_train, y_train, x_val, y_val, x_test, y_test \n",
        "\n",
        "(x_train, y_train, x_val, y_val, x_test, y_test) = input_handling_and_saving()\n",
        "  \n",
        "# (x_train, y_train, x_val, y_val, x_test, y_test) = input_loading()\n",
        "\n",
        "########################################\n",
        "#CNN -> FC method: these lines convert the input data to 4d numpy image.\n",
        "x_train = np.reshape(x_train, (x_train.shape[0], augmentation_size, augmentation_size, 1))\n",
        "x_test = np.reshape(x_test, (x_test.shape[0], augmentation_size, augmentation_size, 1))\n",
        "x_val = np.reshape(x_val, (x_val.shape[0], augmentation_size, augmentation_size, 1))\n",
        "new_x_val = np.reshape(new_x_val, (new_x_val.shape[0], augmentation_size, augmentation_size, 1))\n",
        "########################################\n",
        "\n",
        "\n",
        "print('train shape:', x_train.shape, y_train.shape)\n",
        "print(x_train.shape[0], 'train samples')\n",
        "print('val shape', x_val.shape, y_val.shape)\n",
        "print(x_val.shape[0], 'val samples')\n",
        "print('test shape', x_test.shape, y_test.shape)\n",
        "print(x_test.shape[0], 'test samples')\n",
        "print('New \"unseen\" Validation shape', new_x_val.shape, new_y_val.shape)\n",
        "print(x_test.shape[0], 'test samples')\n",
        "\n",
        "\n",
        "\n",
        "# plot_image(np.reshape(x_train[random.randrange(1,500)], (augmentation_size,augmentation_size)))\n",
        "# plot_image(np.reshape(x_test[random.randrange(1,500)], (augmentation_size,augmentation_size)))\n",
        "# plot_image(np.reshape(x_val[random.randrange(1,500)], (augmentation_size,augmentation_size)))\n",
        "\n",
        "\n",
        "model = Sequential()\n",
        "model.add(Conv2D(16, (5, 5), strides = (2,2), padding='same', activation='relu', input_shape = input_size))\n",
        "model.add(Conv2D(32, (5, 5), strides = (1,1), padding='same', activation='relu'))\n",
        "model.add(Conv2D(64, (3, 3), strides = (2,2), padding='same', activation='relu'))\n",
        "model.add(Conv2D(128, (3, 3), strides = (1,1), padding='same', activation='relu'))\n",
        "\n",
        "model.add(Flatten())\n",
        "model.add(Dense(512, activation='relu', kernel_initializer='normal'))\n",
        "model.add(Dropout(0.05))\n",
        "model.add(Dense(100, activation='relu', kernel_initializer='normal'))\n",
        "model.add(Dense(10, activation='relu', kernel_initializer='normal'))\n",
        "\n",
        "model.add(Dense(1, kernel_initializer='normal'))\n",
        "\n",
        "def R2(y_true, y_pred):\n",
        "    SS_res =  K.sum(K.square( y_true-y_pred )) \n",
        "    SS_tot = K.sum(K.square( y_true - K.mean(y_true) ) ) \n",
        "    return ( 1 - SS_res/(SS_tot + K.epsilon()) )\n",
        "\n",
        "\n",
        "filepath='drive/elisra_dl_course_project/Regression_CNN_6_1.weights-improvement-{epoch:02d}.h5'\n",
        "mc = ModelCheckpoint(filepath, monitor='val_loss', verbose=1, save_best_only=True, mode='auto', save_weights_only=True)\n",
        "\n",
        "tbCallBack = TensorBoard(log_dir='./log', histogram_freq=1,\n",
        "                         write_graph=True,\n",
        "                         write_grads=True,\n",
        "                         batch_size=batch_size,\n",
        "                         write_images=True)\n",
        "\n",
        "model.compile(optimizer='adam', loss='mean_squared_error')#, metrics=[R2])\n",
        "\n",
        "history = model.fit(x_train, y_train, batch_size=batch_size, epochs=epochs, verbose=1,\n",
        "                    validation_data=(x_val, y_val),\n",
        "                    shuffle=True,\n",
        "                    callbacks=[mc])#, tbCallBack])\n",
        "\n",
        "score = model.evaluate(x_test, y_test, verbose=1)\n",
        "\n",
        "#TODO plot the val_loss to epochs.\n",
        "\n",
        "print('Test loss:', score)\n",
        "\n",
        "# Loss Curves\n",
        "plt.figure(figsize=[8, 6])\n",
        "plt.plot(history.history['loss'], 'r', linewidth=3.0)\n",
        "plt.plot(history.history['val_loss'], 'b', linewidth=3.0)\n",
        "plt.legend(['Training loss', 'Validation Loss'], fontsize=18)\n",
        "plt.xlabel('Epochs ', fontsize=16)\n",
        "plt.ylabel('Loss', fontsize=16)\n",
        "plt.title('Loss Curves', fontsize=16)\n",
        "plt.show(block=True)\n",
        "\n",
        "from keras.models import load_model\n",
        "\n",
        "model.save('drive/elisra_dl_course_project/Regression_CNN_6_1.h5')  # creates a HDF5 file 'my_model.h5'\n",
        "\n"
      ],
      "execution_count": 0,
      "outputs": [
        {
          "output_type": "stream",
          "text": [
            "(8000, 31, 31, 1)\n"
          ],
          "name": "stdout"
        }
      ]
    },
    {
      "metadata": {
        "id": "_4VOjUXUJfni",
        "colab_type": "text"
      },
      "cell_type": "markdown",
      "source": [
        "### **Continue training from saved model**"
      ]
    },
    {
      "metadata": {
        "id": "WZuZNaO0XKeK",
        "colab_type": "code",
        "colab": {}
      },
      "cell_type": "code",
      "source": [
        "# model.save('drive/elisra_dl_course_project/Regression_CNN_4_2test.h5')\n",
        "model.load_weights('drive/elisra_dl_course_project/.h5')\n",
        "model.compile(optimizer='adam', loss='mean_squared_error')\n",
        "\n",
        "# score = model.evaluate(x_test, y_test, verbose=1)\n",
        "print('Test loss:', score)\n",
        "\n",
        "\n",
        "def R2(y_true, y_pred):\n",
        "    SS_res =  K.sum(K.square( y_true-y_pred )) \n",
        "    SS_tot = K.sum(K.square( y_true - K.mean(y_true) ) ) \n",
        "    return ( 1 - SS_res/(SS_tot + K.epsilon()) )\n",
        "\n",
        "\n",
        "\n",
        "epochs = 500\n",
        "filepath='drive/elisra_dl_course_project/Regression_CNN_5_2.weights-improvement-{epoch:02d}.h5'\n",
        "mc = ModelCheckpoint(filepath, monitor='val_loss', verbose=1, save_best_only=True, mode='auto', save_weights_only=True)\n",
        "\n",
        "tbCallBack = TensorBoard(log_dir='./log', histogram_freq=1,\n",
        "                         write_graph=True,\n",
        "                         write_grads=True,\n",
        "                         batch_size=batch_size,\n",
        "                         write_images=True)\n",
        "\n",
        "model.compile(optimizer='adam', loss='mean_squared_error', metrics=[R2])\n",
        "\n",
        "history = model.fit(x_train, y_train, batch_size=batch_size, epochs=epochs, verbose=1,\n",
        "                    validation_data=(x_val, y_val),\n",
        "                    shuffle=True,\n",
        "                    callbacks=[mc])\n",
        "\n",
        "score = model.evaluate(x_test, y_test, verbose=1)\n",
        "\n",
        "\n",
        "# Loss Curves\n",
        "plt.figure(figsize=[8, 6])\n",
        "plt.plot(history.history['loss'], 'r', linewidth=3.0)\n",
        "plt.plot(history.history['val_loss'], 'b', linewidth=3.0)\n",
        "plt.legend(['Training loss', 'Validation Loss'], fontsize=18)\n",
        "plt.xlabel('Epochs ', fontsize=16)\n",
        "plt.ylabel('Loss', fontsize=16)\n",
        "plt.title('Loss Curves', fontsize=16)\n",
        "plt.show(block=True)\n",
        "model.save('drive/elisra_dl_course_project/Regression_CNN_4_3.h5')  # creates a HDF5 file 'my_model.h5'\n"
      ],
      "execution_count": 0,
      "outputs": []
    },
    {
      "metadata": {
        "id": "-7ZtmV8KD6FK",
        "colab_type": "text"
      },
      "cell_type": "markdown",
      "source": [
        "### **Regression LIft Chart**"
      ]
    },
    {
      "metadata": {
        "id": "n_kxhwtaDXre",
        "colab_type": "code",
        "colab": {
          "base_uri": "https://localhost:8080/",
          "height": 265
        },
        "outputId": "f92693a1-c274-42cc-d08f-d2ae2bad67f8"
      },
      "cell_type": "code",
      "source": [
        "import pandas as pd\n",
        "model.load_weights('drive/elisra_dl_course_project/Regression_CNN_5_1.weights-improvement-61.h5')\n",
        "model.compile(optimizer='adam', loss='mean_squared_error')\n",
        "\n",
        "# Regression chart.\n",
        "def chart_regression(pred,y,sort=True):\n",
        "    t = pd.DataFrame({'pred' : pred, 'y' : y.flatten()})\n",
        "    if sort:\n",
        "        t.sort_values(by=['y'],inplace=True)\n",
        "    b = plt.plot(t['pred'].tolist(),label='prediction')\n",
        "\n",
        "    a = plt.plot(t['y'].tolist(),label='expected')\n",
        "    plt.ylabel('output')\n",
        "    plt.legend()\n",
        "    plt.show()\n",
        "\n",
        "    \n",
        "# Predict and measure RMSE\n",
        "predict = model.predict(x_test[0:500])\n",
        "# score = np.sqrt(metrics.mean_squared_error(pred,y_test))\n",
        "# print(\"Score (RMSE): {}\".format(score))\n",
        "\n",
        "# Plot the chart\n",
        "chart_regression(predict.flatten(),y_test[0:500])\n"
      ],
      "execution_count": 10,
      "outputs": [
        {
          "output_type": "display_data",
          "data": {
            "image/png": "[encoded data removed]",
            "text/plain": [
              "<matplotlib.figure.Figure at 0x7fa27ff31518>"
            ]
          },
          "metadata": {
            "tags": []
          }
        }
      ]
    },
    {
      "metadata": {
        "id": "ODt6ijzP4dfo",
        "colab_type": "text"
      },
      "cell_type": "markdown",
      "source": [
        "### **R-Squared chart**"
      ]
    },
    {
      "metadata": {
        "id": "PAndRlJ_40Uo",
        "colab_type": "code",
        "colab": {
          "base_uri": "https://localhost:8080/",
          "height": 296
        },
        "outputId": "222d77f2-bafa-4b32-a0fe-6b95238ca759"
      },
      "cell_type": "code",
      "source": [
        "# model.load_weights('drive/elisra_dl_course_project/Regression_CNN_5_1.weights-improvement-15.h5')\n",
        "# model.compile(optimizer='adam', loss='mean_squared_error')\n",
        "\n",
        "Y_test = y_test[2000:2200] # Random Data\n",
        "Y_pred = model.predict(x_test[2000:2200])\n",
        "\n",
        "\n",
        "def r2_keras(y_true, y_pred):\n",
        "    ssres = np.sum(np.square(y_true - y_pred))\n",
        "    sstot = np.sum(np.square(y_true - np.mean(y_pred)))\n",
        "    return 1 - ssres / sstot\n",
        "\n",
        "r_squared = r2_keras(Y_test, Y_pred)\n",
        "\n",
        "plt.scatter(Y_test,Y_pred)\n",
        "plt.xlabel('Actual values')\n",
        "plt.ylabel('Predicted values')\n",
        "\n",
        "# plt.plot((np.unique(Y_test), np.poly1d(np.polyfit(Y_test, Y_pred, 1))(np.unique(Y_test))))\n",
        "\n",
        "plt.text(0.2, 0.2, 'R-squared = %0.2f' % r_squared)\n",
        "plt.show()\n",
        "print(r_squared)"
      ],
      "execution_count": 13,
      "outputs": [
        {
          "output_type": "display_data",
          "data": {
            "image/png": "[encoded data removed]",
            "text/plain": [
              "<matplotlib.figure.Figure at 0x7fa27f60b1d0>"
            ]
          },
          "metadata": {
            "tags": []
          }
        },
        {
          "output_type": "stream",
          "text": [
            "0.9870264058502616\n"
          ],
          "name": "stdout"
        }
      ]
    },
    {
      "metadata": {
        "id": "yTpY5DSwHyWB",
        "colab_type": "text"
      },
      "cell_type": "markdown",
      "source": [
        "### **Testing the model**"
      ]
    },
    {
      "metadata": {
        "id": "i6ZjtROVEBFa",
        "colab_type": "text"
      },
      "cell_type": "markdown",
      "source": [
        "**Test Loss after keras checkpoint**"
      ]
    },
    {
      "metadata": {
        "id": "ANoB5JhQ14RU",
        "colab_type": "code",
        "colab": {
          "base_uri": "https://localhost:8080/",
          "height": 50
        },
        "outputId": "3942984a-87fb-4f0c-d059-135f2c191b20"
      },
      "cell_type": "code",
      "source": [
        "model.load_weights('drive/elisra_dl_course_project/Regression_CNN_5_1.weights-improvement-61.h5')\n",
        "model.compile(optimizer='adam', loss='mean_squared_error')\n",
        "\n",
        "# score = model.evaluate(x_test, y_test, verbose=1)\n",
        "model.save('drive/elisra_dl_course_project/Regression_CNN_5_model.h5')\n",
        "from keras.models import load_model\n",
        "\n",
        "model2 = load_model('drive/elisra_dl_course_project/Regression_CNN_5_model.h5')\n",
        "score = model2.evaluate(x_test, y_test, verbose=1)\n",
        "print('Test loss:', score)\n"
      ],
      "execution_count": 15,
      "outputs": [
        {
          "output_type": "stream",
          "text": [
            "75125/75125 [==============================] - 7s 87us/step\n",
            "Test loss: 2.9250108120891695e-05\n"
          ],
          "name": "stdout"
        }
      ]
    },
    {
      "metadata": {
        "id": "fU7CoUhUELUA",
        "colab_type": "text"
      },
      "cell_type": "markdown",
      "source": [
        "**MSE over Test Set**"
      ]
    },
    {
      "metadata": {
        "id": "SDpG6SL9a4ch",
        "colab_type": "code",
        "colab": {
          "base_uri": "https://localhost:8080/",
          "height": 34
        },
        "outputId": "8174ee53-0447-442c-c2b1-067fc0747dec"
      },
      "cell_type": "code",
      "source": [
        "%matplotlib inline \n",
        "\n",
        "import math\n",
        "model.load_weights('drive/elisra_dl_course_project/Regression_CNN_5_1.weights-improvement-61.h5')\n",
        "model.compile(optimizer='adam', loss='mean_squared_error')\n",
        "\n",
        "#MSE over test set:\n",
        "len = 75000\n",
        "\n",
        "ms = []\n",
        "acc = 0\n",
        "abs_acc = 0\n",
        "norm_acc = 0\n",
        "cnt = 0\n",
        "\n",
        "for i in range(1,len):\n",
        "  #FC prediction:\n",
        "\n",
        "#   expanded_im = np.expand_dims(x_test[a], axis=0)\n",
        "#   reshaped_img = np.reshape(expanded_im, (1, 121))\n",
        "#   prediction = model2.predict(reshaped_img)[0][0]\n",
        "  \n",
        "  #CNN prediction:\n",
        "  reshaped_img = np.reshape(x_test[i], (augmentation_size,augmentation_size))\n",
        "  expanded_im = np.expand_dims(reshaped_img, axis=0)\n",
        "  expanded_im = np.expand_dims(expanded_im, axis=3)\n",
        "  prediction = model.predict(expanded_im)\n",
        "\n",
        "  #conversion to non-normalized images\n",
        "  \n",
        "  original_y_val = int((maxval-minval)*y_test[i][0] + minval)\n",
        "  original_pred_val = int((maxval-minval)*prediction + minval)\n",
        "  \n",
        "  diff = original_pred_val - original_y_val\n",
        "  ms.append(diff)\n",
        "  acc += abs(original_pred_val-original_y_val)\n",
        "  abs_acc = acc*acc\n",
        "  cnt+=1\n",
        "  norm_acc += abs(prediction - y_test[a][0]) \n",
        "  #print('real value:',y_test[a][0], 'predicted:',pred, 'DIFF:', abs((y_test[a] - pred)[0]))\n",
        "#   print('Non-normalized real value:',original_y_val, '/  predicted:',original_pred_val, '/  DIFF:', abs(original_pred_val-original_y_val))\n",
        "  \n",
        "# print(\"\\nRegular L1 is\", round(acc/cnt))\n",
        "\n",
        "# print(\"\\nRegular L2 is\", round(math.sqrt((abs_acc/cnt))))\n",
        "\n",
        "import statistics as s\n",
        "mse = s.mean([i ** 2 for i in ms])\n",
        "print('MSE:',mse)\n"
      ],
      "execution_count": 12,
      "outputs": [
        {
          "output_type": "stream",
          "text": [
            "MSE: 148.07944105921413\n"
          ],
          "name": "stdout"
        }
      ]
    },
    {
      "metadata": {
        "id": "w0R46CPut-t7",
        "colab_type": "text"
      },
      "cell_type": "markdown",
      "source": [
        "### Comparing two models: (currently for FC models only)"
      ]
    },
    {
      "metadata": {
        "id": "AQUN95o-dEI4",
        "colab_type": "code",
        "colab": {}
      },
      "cell_type": "code",
      "source": [
        "\n",
        "\n",
        "#model 3 - B - the best performing model yet (FC4_1)\n",
        "#model 2 - A - Newly trained model (from test segment)\n",
        "\n",
        "model3 = Sequential()\n",
        "model3.add(Dense(512, activation='relu', input_dim=input_size, kernel_initializer='normal'))\n",
        "model3.add(Dropout(0.05))\n",
        "model3.add(Dense(512, activation='relu', input_dim=input_size, kernel_initializer='normal'))\n",
        "model3.add(Dropout(0.05))\n",
        "model3.add(Dense(1, kernel_initializer='normal'))\n",
        "\n",
        "model3.load_weights('drive/elisra_dl_course_project/FC-regression-augmentation_FC#4_1.h5')\n",
        "model3.compile(optimizer='adam', loss='mean_squared_error')\n",
        "\n",
        "import math\n",
        "\n",
        "#comparing two models\n",
        "\n",
        "len = 100\n",
        "msA = []\n",
        "msB = []\n",
        "acc = 0\n",
        "abs_acc = 0\n",
        "norm_acc = 0\n",
        "cnt = 0\n",
        "for i in range(1,len):\n",
        "  a = random.randrange(1,50000)\n",
        "  expanded_im = np.expand_dims(x_test[a], axis=0)\n",
        "  reshaped_img = np.reshape(expanded_im, (1, augmentation_size**2))\n",
        "  predictionA = model2.predict(reshaped_img)[0][0]\n",
        "  predictionB = model3.predict(reshaped_img)[0][0]\n",
        "\n",
        "  #CNN prediction:\n",
        "  model2.predict(np.expand_dims(reshaped_img, axis=0))\n",
        "  \n",
        "  #conversion to non-normalized images\n",
        "  original_y_val = int((maxval-minval)*y_test[a][0] + minval)\n",
        "  original_pred_val_A = ((maxval-minval)*predictionA + minval)\n",
        "  original_pred_val_B = ((maxval-minval)*predictionB + minval)\n",
        "\n",
        "  diffA = original_pred_val_A - original_y_val\n",
        "  diffB = original_pred_val_B - original_y_val\n",
        "\n",
        "  msA.append(diffA)\n",
        "  msB.append(diffB)\n",
        "  \n",
        "#   acc += abs(original_pred_val-original_y_val)\n",
        "#   abs_acc = acc*acc\n",
        "#   cnt+=1\n",
        "#   norm_acc += abs(prediction - y_test[a][0]) \n",
        "#   print('real value:',y_test[a][0], 'predicted:',pred, 'DIFF:', abs((y_test[a] - pred)[0]))\n",
        "#   print('Real:',original_y_val, '/  A_diff:',int(abs(original_y_val-original_pred_val_A)) , 'B_diff:', int(abs(original_pred_val_B-original_y_val)))\n",
        "  \n",
        "import statistics as s\n",
        "mseA = s.mean([i ** 2 for i in msA])\n",
        "print('MSE A:',mseA)\n",
        "mseB = s.mean([i ** 2 for i in msB])\n",
        "print('MSE B:',mseB)\n"
      ],
      "execution_count": 0,
      "outputs": []
    },
    {
      "metadata": {
        "id": "p7T07PyHnrhN",
        "colab_type": "text"
      },
      "cell_type": "markdown",
      "source": [
        "### **Image completion test**"
      ]
    },
    {
      "metadata": {
        "id": "o_cVx8s1nvJp",
        "colab_type": "code",
        "colab": {
          "base_uri": "https://localhost:8080/",
          "height": 1369
        },
        "outputId": "2a1bab73-34e6-4ac9-8f03-f19fb686c4e2"
      },
      "cell_type": "code",
      "source": [
        "%matplotlib inline\n",
        "\n",
        "from matplotlib import cm\n",
        "plt.rcParams['image.cmap'] = 'plasma'\n",
        "\n",
        "model.load_weights('drive/elisra_dl_course_project/Regression_CNN_5_1.weights-improvement-61.h5')\n",
        "model.compile(optimizer='adam', loss='mean_squared_error')\n",
        "\n",
        "\n",
        "###################################################################################\n",
        "#Plot X_TEST images with the predicted value (WITH y_true value)\n",
        "from pylab import *\n",
        "import random \n",
        "for i in range(1,1):\n",
        "  a = random.randrange(1,50000)\n",
        "  \n",
        "  #FC prediction:\n",
        "\n",
        "  #expanded_im = np.expand_dims(x_test[a], axis=0)\n",
        "  #reshaped_img = np.reshape(expanded_im, (1, 121))\n",
        "  #prediction = model2.predict(reshaped_img)[0][0]\n",
        "  \n",
        "  #CNN prediction:\n",
        "  reshaped_img = np.reshape(x_test[a], (augmentation_size,augmentation_size))\n",
        "  expanded_im = np.expand_dims(reshaped_img, axis=0)\n",
        "  expanded_im = np.expand_dims(expanded_im, axis=3)\n",
        "#   print(expanded_im.shape)\n",
        "  prediction = model.predict(expanded_im)\n",
        "  \n",
        "  Original_image = reshaped_img\n",
        "  Original_image[int(augmentation_size/2)][int(augmentation_size/2)] = y_test[a]\n",
        "  Original_image = ((maxval-minval)*Original_image + minval)\n",
        "  \n",
        "  predicted_image = reshaped_img\n",
        "  predicted_image[int(augmentation_size/2)][int(augmentation_size/2)] = prediction\n",
        "  predicted_image = ((maxval-minval)*predicted_image + minval)\n",
        "  plt.figure(figsize=(6, 4))\n",
        "\n",
        "\n",
        "  fig, axs = plt.subplots(1, 2, figsize=(13, 6))\n",
        "  axs[0].imshow(Original_image)\n",
        "  axs[0].set_title('Original_image')\n",
        "\n",
        "  axs[1].imshow(predicted_image)\n",
        "  axs[1].set_title('predicted_image')\n",
        "    \n",
        "  print('True Value:', Original_image[int(augmentation_size/2)][int(augmentation_size/2)], 'Predicted:', predicted_image[int(augmentation_size/2)][int(augmentation_size/2)])\n",
        "\n",
        "def crop_center_for_nn(img,crop):\n",
        "  y,x = img.shape\n",
        "  startx = x//2 - crop//2\n",
        "  starty = y//2 - crop//2\n",
        "  return img[starty:starty+crop, startx:startx+crop]\n",
        "\n",
        "\n",
        "test_set1 = unpickle('drive/elisra_dl_course_project/test data/test1_data_2000_31X31_dataOnly.pickle')\n",
        "test_set2 = unpickle('drive/elisra_dl_course_project/test data/test2_data_2000_31X31_dataOnly.pickle')\n",
        "test_set = np.concatenate((test_set1, test_set2), axis=0)\n",
        "\n",
        "normalized_test_set = data_normalization(test_set, minval, maxval)\n",
        "\n",
        "\n",
        "def test_31_sized_img(test_image):\n",
        "  test_img = np.squeeze(test_image)\n",
        "  center_img = crop_center_for_nn(test_img, augmentation_size)\n",
        "  expanded_im = np.expand_dims(center_img, axis=0)\n",
        "  center_img11 = np.expand_dims(expanded_im, axis=3)\n",
        "\n",
        "  return center_img11, test_img\n",
        "\n",
        "###################################################################################\n",
        "#Plot Test_set images with the predicted value (without y_true value)\n",
        "\n",
        "for i in range(1,2):\n",
        "  a = random.randrange(1,4000)\n",
        "  test_image = normalized_test_set[a]\n",
        "  (center_image, full_image) = test_31_sized_img(test_image)\n",
        "  \n",
        "\n",
        "  center_image[:,int(augmentation_size/2),int(augmentation_size/2),:] = 0\n",
        "  print(center_image)\n",
        "  prediction = model.predict(center_image)\n",
        "  print(prediction)\n",
        "\n",
        "#   full_image[15][15] = prediction\n",
        "  \n",
        "  full_image = ((maxval-minval)*full_image + minval)\n",
        "  plt.figure(figsize=(9, 7))\n",
        "\n",
        "  plt.imshow(full_image)\n",
        "\n",
        "  plt.colorbar()\n",
        "  plt.show(block=True)\n"
      ],
      "execution_count": 25,
      "outputs": [
        {
          "output_type": "stream",
          "text": [
            "[[[[0.1680747 ]\n",
            "   [0.1596265 ]\n",
            "   [0.14628724]\n",
            "   [0.13872832]\n",
            "   [0.12850156]\n",
            "   [0.17074255]\n",
            "   [0.16007114]]\n",
            "\n",
            "  [[0.14050689]\n",
            "   [0.17429969]\n",
            "   [0.17118719]\n",
            "   [0.16362828]\n",
            "   [0.18586038]\n",
            "   [0.1511783 ]\n",
            "   [0.1342819 ]]\n",
            "\n",
            "  [[0.15784793]\n",
            "   [0.1849711 ]\n",
            "   [0.20231214]\n",
            "   [0.21476212]\n",
            "   [0.16985327]\n",
            "   [0.13917297]\n",
            "   [0.18541574]]\n",
            "\n",
            "  [[0.19075145]\n",
            "   [0.23432637]\n",
            "   [0.23654958]\n",
            "   [0.        ]\n",
            "   [0.1511783 ]\n",
            "   [0.18852823]\n",
            "   [0.23432637]]\n",
            "\n",
            "  [[0.23210316]\n",
            "   [0.22854602]\n",
            "   [0.18141396]\n",
            "   [0.16540685]\n",
            "   [0.19697643]\n",
            "   [0.23832815]\n",
            "   [0.25833704]]\n",
            "\n",
            "  [[0.22054246]\n",
            "   [0.17029791]\n",
            "   [0.16851934]\n",
            "   [0.15606936]\n",
            "   [0.21609604]\n",
            "   [0.25878168]\n",
            "   [0.24321921]]\n",
            "\n",
            "  [[0.15784793]\n",
            "   [0.17163184]\n",
            "   [0.20320142]\n",
            "   [0.2103157 ]\n",
            "   [0.25433526]\n",
            "   [0.24722099]\n",
            "   [0.20097821]]]]\n",
            "[[0.19699639]]\n"
          ],
          "name": "stdout"
        },
        {
          "output_type": "display_data",
          "data": {
            "image/png": "[encoded data removed]",
            "text/plain": [
              "<matplotlib.figure.Figure at 0x7f3983886860>"
            ]
          },
          "metadata": {
            "tags": []
          }
        }
      ]
    },
    {
      "metadata": {
        "id": "xaiDS_ebIdOb",
        "colab_type": "text"
      },
      "cell_type": "markdown",
      "source": [
        "### **Plot Model**"
      ]
    },
    {
      "metadata": {
        "id": "YCkXZGN9EYdH",
        "colab_type": "code",
        "colab": {
          "base_uri": "https://localhost:8080/",
          "height": 699
        },
        "outputId": "2a034b3e-1858-478e-8ff6-c8faab809090"
      },
      "cell_type": "code",
      "source": [
        "import IPython\n",
        "from keras.utils import plot_model\n",
        "!apt-get -qq install -y graphviz && !pip install -q pydot\n",
        "# import pydot\n",
        "\n",
        "plot_model(model, to_file='drive/elisra_dl_course_project/model.png')\n"
      ],
      "execution_count": 8,
      "outputs": [
        {
          "output_type": "stream",
          "text": [
            "/bin/bash: !pip: command not found\n"
          ],
          "name": "stdout"
        },
        {
          "output_type": "error",
          "ename": "ImportError",
          "evalue": "ignored",
          "traceback": [
            "\u001b[0;31m---------------------------------------------------------------------------\u001b[0m",
            "\u001b[0;31mImportError\u001b[0m                               Traceback (most recent call last)",
            "\u001b[0;32m<ipython-input-8-6ac09cc56f43>\u001b[0m in \u001b[0;36m<module>\u001b[0;34m()\u001b[0m\n\u001b[1;32m      4\u001b[0m \u001b[0;31m# import pydot\u001b[0m\u001b[0;34m\u001b[0m\u001b[0;34m\u001b[0m\u001b[0m\n\u001b[1;32m      5\u001b[0m \u001b[0;34m\u001b[0m\u001b[0m\n\u001b[0;32m----> 6\u001b[0;31m \u001b[0mplot_model\u001b[0m\u001b[0;34m(\u001b[0m\u001b[0mmodel\u001b[0m\u001b[0;34m,\u001b[0m \u001b[0mto_file\u001b[0m\u001b[0;34m=\u001b[0m\u001b[0;34m'drive/elisra_dl_course_project/model.png'\u001b[0m\u001b[0;34m)\u001b[0m\u001b[0;34m\u001b[0m\u001b[0m\n\u001b[0m",
            "\u001b[0;32m/usr/local/lib/python3.6/dist-packages/keras/utils/vis_utils.py\u001b[0m in \u001b[0;36mplot_model\u001b[0;34m(model, to_file, show_shapes, show_layer_names, rankdir)\u001b[0m\n\u001b[1;32m    132\u001b[0m             \u001b[0;34m'LR'\u001b[0m \u001b[0mcreates\u001b[0m \u001b[0ma\u001b[0m \u001b[0mhorizontal\u001b[0m \u001b[0mplot\u001b[0m\u001b[0;34m.\u001b[0m\u001b[0;34m\u001b[0m\u001b[0m\n\u001b[1;32m    133\u001b[0m     \"\"\"\n\u001b[0;32m--> 134\u001b[0;31m     \u001b[0mdot\u001b[0m \u001b[0;34m=\u001b[0m \u001b[0mmodel_to_dot\u001b[0m\u001b[0;34m(\u001b[0m\u001b[0mmodel\u001b[0m\u001b[0;34m,\u001b[0m \u001b[0mshow_shapes\u001b[0m\u001b[0;34m,\u001b[0m \u001b[0mshow_layer_names\u001b[0m\u001b[0;34m,\u001b[0m \u001b[0mrankdir\u001b[0m\u001b[0;34m)\u001b[0m\u001b[0;34m\u001b[0m\u001b[0m\n\u001b[0m\u001b[1;32m    135\u001b[0m     \u001b[0m_\u001b[0m\u001b[0;34m,\u001b[0m \u001b[0mextension\u001b[0m \u001b[0;34m=\u001b[0m \u001b[0mos\u001b[0m\u001b[0;34m.\u001b[0m\u001b[0mpath\u001b[0m\u001b[0;34m.\u001b[0m\u001b[0msplitext\u001b[0m\u001b[0;34m(\u001b[0m\u001b[0mto_file\u001b[0m\u001b[0;34m)\u001b[0m\u001b[0;34m\u001b[0m\u001b[0m\n\u001b[1;32m    136\u001b[0m     \u001b[0;32mif\u001b[0m \u001b[0;32mnot\u001b[0m \u001b[0mextension\u001b[0m\u001b[0;34m:\u001b[0m\u001b[0;34m\u001b[0m\u001b[0m\n",
            "\u001b[0;32m/usr/local/lib/python3.6/dist-packages/keras/utils/vis_utils.py\u001b[0m in \u001b[0;36mmodel_to_dot\u001b[0;34m(model, show_shapes, show_layer_names, rankdir)\u001b[0m\n\u001b[1;32m     53\u001b[0m     \u001b[0;32mfrom\u001b[0m \u001b[0;34m.\u001b[0m\u001b[0;34m.\u001b[0m\u001b[0mmodels\u001b[0m \u001b[0;32mimport\u001b[0m \u001b[0mSequential\u001b[0m\u001b[0;34m\u001b[0m\u001b[0m\n\u001b[1;32m     54\u001b[0m \u001b[0;34m\u001b[0m\u001b[0m\n\u001b[0;32m---> 55\u001b[0;31m     \u001b[0m_check_pydot\u001b[0m\u001b[0;34m(\u001b[0m\u001b[0;34m)\u001b[0m\u001b[0;34m\u001b[0m\u001b[0m\n\u001b[0m\u001b[1;32m     56\u001b[0m     \u001b[0mdot\u001b[0m \u001b[0;34m=\u001b[0m \u001b[0mpydot\u001b[0m\u001b[0;34m.\u001b[0m\u001b[0mDot\u001b[0m\u001b[0;34m(\u001b[0m\u001b[0;34m)\u001b[0m\u001b[0;34m\u001b[0m\u001b[0m\n\u001b[1;32m     57\u001b[0m     \u001b[0mdot\u001b[0m\u001b[0;34m.\u001b[0m\u001b[0mset\u001b[0m\u001b[0;34m(\u001b[0m\u001b[0;34m'rankdir'\u001b[0m\u001b[0;34m,\u001b[0m \u001b[0mrankdir\u001b[0m\u001b[0;34m)\u001b[0m\u001b[0;34m\u001b[0m\u001b[0m\n",
            "\u001b[0;32m/usr/local/lib/python3.6/dist-packages/keras/utils/vis_utils.py\u001b[0m in \u001b[0;36m_check_pydot\u001b[0;34m()\u001b[0m\n\u001b[1;32m     18\u001b[0m     \u001b[0;32mif\u001b[0m \u001b[0mpydot\u001b[0m \u001b[0;32mis\u001b[0m \u001b[0;32mNone\u001b[0m\u001b[0;34m:\u001b[0m\u001b[0;34m\u001b[0m\u001b[0m\n\u001b[1;32m     19\u001b[0m         raise ImportError(\n\u001b[0;32m---> 20\u001b[0;31m             \u001b[0;34m'Failed to import `pydot`. '\u001b[0m\u001b[0;34m\u001b[0m\u001b[0m\n\u001b[0m\u001b[1;32m     21\u001b[0m             \u001b[0;34m'Please install `pydot`. '\u001b[0m\u001b[0;34m\u001b[0m\u001b[0m\n\u001b[1;32m     22\u001b[0m             'For example with `pip install pydot`.')\n",
            "\u001b[0;31mImportError\u001b[0m: Failed to import `pydot`. Please install `pydot`. For example with `pip install pydot`.",
            "",
            "\u001b[0;31m---------------------------------------------------------------------------\u001b[0;32m\nNOTE: If your import is failing due to a missing package, you can\nmanually install dependencies using either !pip or !apt.\n\nTo view examples of installing some common dependencies, click the\n\"Open Examples\" button below.\n\u001b[0;31m---------------------------------------------------------------------------\u001b[0m\n"
          ]
        }
      ]
    },
    {
      "metadata": {
        "id": "W6-Qd_AruIkb",
        "colab_type": "text"
      },
      "cell_type": "markdown",
      "source": [
        "### **random stuff**"
      ]
    },
    {
      "metadata": {
        "id": "k08vYWTlFk5M",
        "colab_type": "code",
        "colab": {}
      },
      "cell_type": "code",
      "source": [
        "# plot_image(np.reshape(x_train[9291], (augmentation_size,augmentation_size)))\n",
        "plot_image(np.squeeze(full_image_array[9291]))\n",
        "plot_image(np.reshape(norm_x[9291], (31,31)))\n",
        "\n",
        "\n",
        "plot_image(np.reshape(x_test[6], (augmentation_size,augmentation_size)))\n",
        "plot_image(np.reshape(x_val[random.randrange(1,500)], (augmentation_size,augmentation_size)))"
      ],
      "execution_count": 0,
      "outputs": []
    },
    {
      "metadata": {
        "id": "lqSfk4xaghOb",
        "colab_type": "code",
        "colab": {
          "base_uri": "https://localhost:8080/",
          "height": 34
        },
        "outputId": "3570e348-0af8-4d9b-a62d-104c1d10ffd0"
      },
      "cell_type": "code",
      "source": [
        "imageminval = np.min(np.min(np.where(full_image_array==0, full_image_array.max(), full_image_array), axis=1))\n",
        "\n",
        "maxval = np.max(np.max(np.where(full_image_array==0, full_image_array.min(), full_image_array), axis=1))\n",
        "\n",
        "zeroval = np.argwhere(full_image_array==0)\n",
        "\n",
        "max_arg = np.argwhere(full_image_array==2736)\n",
        "\n",
        "print(minval, maxval, max_arg)\n",
        "\n",
        "# print(full_image_array[495][20]) "
      ],
      "execution_count": 103,
      "outputs": [
        {
          "output_type": "stream",
          "text": [
            "487 2736 [[9291    6   30    0]]\n"
          ],
          "name": "stdout"
        }
      ]
    },
    {
      "metadata": {
        "id": "mO20r2HIu8HZ",
        "colab_type": "code",
        "colab": {}
      },
      "cell_type": "code",
      "source": [
        ""
      ],
      "execution_count": 0,
      "outputs": []
    }
  ]
}